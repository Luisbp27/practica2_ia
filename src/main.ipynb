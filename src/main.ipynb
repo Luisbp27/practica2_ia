{
 "cells": [
  {
   "cell_type": "markdown",
   "metadata": {},
   "source": [
    "# **Pràctica 2 - L'enfonsament del Titànic i les possiblitats de sobreviure**\n",
    "## Inteligència Artificial - Machine Learning\n",
    "### Grau en Enginyeria Informàtica - Universitat de les Illes Balears\n",
    "\n",
    "#### Autors: Lluis Barca Pons i Victor Canelo Galera"
   ]
  },
  {
   "cell_type": "markdown",
   "metadata": {},
   "source": [
    "Desde l'assignatura d'Intelgència Artificial se'ns ha demanat realitzar un anàlisis sobre el famós enfonsament del vaixell Titànic, l'any 1912. Durant aques naufragi, van morir 1502 de 2224 persones registrades, entre passatgers i tripulants.\n",
    "\n",
    "El més interessant és que sembla ser que existia diferents probabilitats de sobreviure entre alguns grups de persones. Per tant, l'objectiu d'aquesta pràctica és realitzar un model predictiu, utilizant les dades reals recollides, que ens mostri quins tipus de persones tenien més probabiitats de viure.\n",
    "\n",
    "Llavors, la practica es dividira en dues parts:\n",
    "\n",
    "1. Entrenar una serie de predictors i comparar el seu rendiment.\n",
    "\n",
    "2. Obtenir i analitzar la importancia de cada caracteristica per cada un dels models generats."
   ]
  },
  {
   "cell_type": "markdown",
   "metadata": {},
   "source": [
    "# 1. Primera part"
   ]
  },
  {
   "cell_type": "markdown",
   "metadata": {},
   "source": [
    "Per a la configuració del nostre entorn, necessitarem els corresponents imports de les diferents llibreries de Python que utilitzarem durant tota la pràctica."
   ]
  },
  {
   "cell_type": "code",
   "execution_count": 31,
   "metadata": {},
   "outputs": [],
   "source": [
    "import numpy as np\n",
    "import pandas as pd\n",
    "import seaborn as sns\n",
    "import matplotlib.pyplot as plt\n",
    "from sklearn import preprocessing\n",
    "from sklearn.preprocessing import LabelEncoder\n",
    "from sklearn.model_selection import train_test_split\n",
    "from sklearn.model_selection import GridSearchCV\n",
    "from sklearn.metrics import classification_report, accuracy_score\n",
    "from sklearn.linear_model import LogisticRegression, Perceptron\n",
    "from sklearn.ensemble import RandomForestClassifier, RandomForestRegressor"
   ]
  },
  {
   "cell_type": "markdown",
   "metadata": {},
   "source": [
    "## 1.1. Neteja del dataset"
   ]
  },
  {
   "cell_type": "code",
   "execution_count": 32,
   "metadata": {},
   "outputs": [
    {
     "data": {
      "text/html": [
       "<div>\n",
       "<style scoped>\n",
       "    .dataframe tbody tr th:only-of-type {\n",
       "        vertical-align: middle;\n",
       "    }\n",
       "\n",
       "    .dataframe tbody tr th {\n",
       "        vertical-align: top;\n",
       "    }\n",
       "\n",
       "    .dataframe thead th {\n",
       "        text-align: right;\n",
       "    }\n",
       "</style>\n",
       "<table border=\"1\" class=\"dataframe\">\n",
       "  <thead>\n",
       "    <tr style=\"text-align: right;\">\n",
       "      <th></th>\n",
       "      <th>PassengerId</th>\n",
       "      <th>Survived</th>\n",
       "      <th>Pclass</th>\n",
       "      <th>Name</th>\n",
       "      <th>Sex</th>\n",
       "      <th>Age</th>\n",
       "      <th>SibSp</th>\n",
       "      <th>Parch</th>\n",
       "      <th>Ticket</th>\n",
       "      <th>Fare</th>\n",
       "      <th>Cabin</th>\n",
       "      <th>Embarked</th>\n",
       "    </tr>\n",
       "  </thead>\n",
       "  <tbody>\n",
       "    <tr>\n",
       "      <th>0</th>\n",
       "      <td>1</td>\n",
       "      <td>0</td>\n",
       "      <td>3</td>\n",
       "      <td>Braund, Mr. Owen Harris</td>\n",
       "      <td>male</td>\n",
       "      <td>22.0</td>\n",
       "      <td>1</td>\n",
       "      <td>0</td>\n",
       "      <td>A/5 21171</td>\n",
       "      <td>7.2500</td>\n",
       "      <td>NaN</td>\n",
       "      <td>S</td>\n",
       "    </tr>\n",
       "    <tr>\n",
       "      <th>1</th>\n",
       "      <td>2</td>\n",
       "      <td>1</td>\n",
       "      <td>1</td>\n",
       "      <td>Cumings, Mrs. John Bradley (Florence Briggs Th...</td>\n",
       "      <td>female</td>\n",
       "      <td>38.0</td>\n",
       "      <td>1</td>\n",
       "      <td>0</td>\n",
       "      <td>PC 17599</td>\n",
       "      <td>71.2833</td>\n",
       "      <td>C85</td>\n",
       "      <td>C</td>\n",
       "    </tr>\n",
       "    <tr>\n",
       "      <th>2</th>\n",
       "      <td>3</td>\n",
       "      <td>1</td>\n",
       "      <td>3</td>\n",
       "      <td>Heikkinen, Miss. Laina</td>\n",
       "      <td>female</td>\n",
       "      <td>26.0</td>\n",
       "      <td>0</td>\n",
       "      <td>0</td>\n",
       "      <td>STON/O2. 3101282</td>\n",
       "      <td>7.9250</td>\n",
       "      <td>NaN</td>\n",
       "      <td>S</td>\n",
       "    </tr>\n",
       "    <tr>\n",
       "      <th>3</th>\n",
       "      <td>4</td>\n",
       "      <td>1</td>\n",
       "      <td>1</td>\n",
       "      <td>Futrelle, Mrs. Jacques Heath (Lily May Peel)</td>\n",
       "      <td>female</td>\n",
       "      <td>35.0</td>\n",
       "      <td>1</td>\n",
       "      <td>0</td>\n",
       "      <td>113803</td>\n",
       "      <td>53.1000</td>\n",
       "      <td>C123</td>\n",
       "      <td>S</td>\n",
       "    </tr>\n",
       "    <tr>\n",
       "      <th>4</th>\n",
       "      <td>5</td>\n",
       "      <td>0</td>\n",
       "      <td>3</td>\n",
       "      <td>Allen, Mr. William Henry</td>\n",
       "      <td>male</td>\n",
       "      <td>35.0</td>\n",
       "      <td>0</td>\n",
       "      <td>0</td>\n",
       "      <td>373450</td>\n",
       "      <td>8.0500</td>\n",
       "      <td>NaN</td>\n",
       "      <td>S</td>\n",
       "    </tr>\n",
       "    <tr>\n",
       "      <th>...</th>\n",
       "      <td>...</td>\n",
       "      <td>...</td>\n",
       "      <td>...</td>\n",
       "      <td>...</td>\n",
       "      <td>...</td>\n",
       "      <td>...</td>\n",
       "      <td>...</td>\n",
       "      <td>...</td>\n",
       "      <td>...</td>\n",
       "      <td>...</td>\n",
       "      <td>...</td>\n",
       "      <td>...</td>\n",
       "    </tr>\n",
       "    <tr>\n",
       "      <th>886</th>\n",
       "      <td>887</td>\n",
       "      <td>0</td>\n",
       "      <td>2</td>\n",
       "      <td>Montvila, Rev. Juozas</td>\n",
       "      <td>male</td>\n",
       "      <td>27.0</td>\n",
       "      <td>0</td>\n",
       "      <td>0</td>\n",
       "      <td>211536</td>\n",
       "      <td>13.0000</td>\n",
       "      <td>NaN</td>\n",
       "      <td>S</td>\n",
       "    </tr>\n",
       "    <tr>\n",
       "      <th>887</th>\n",
       "      <td>888</td>\n",
       "      <td>1</td>\n",
       "      <td>1</td>\n",
       "      <td>Graham, Miss. Margaret Edith</td>\n",
       "      <td>female</td>\n",
       "      <td>19.0</td>\n",
       "      <td>0</td>\n",
       "      <td>0</td>\n",
       "      <td>112053</td>\n",
       "      <td>30.0000</td>\n",
       "      <td>B42</td>\n",
       "      <td>S</td>\n",
       "    </tr>\n",
       "    <tr>\n",
       "      <th>888</th>\n",
       "      <td>889</td>\n",
       "      <td>0</td>\n",
       "      <td>3</td>\n",
       "      <td>Johnston, Miss. Catherine Helen \"Carrie\"</td>\n",
       "      <td>female</td>\n",
       "      <td>NaN</td>\n",
       "      <td>1</td>\n",
       "      <td>2</td>\n",
       "      <td>W./C. 6607</td>\n",
       "      <td>23.4500</td>\n",
       "      <td>NaN</td>\n",
       "      <td>S</td>\n",
       "    </tr>\n",
       "    <tr>\n",
       "      <th>889</th>\n",
       "      <td>890</td>\n",
       "      <td>1</td>\n",
       "      <td>1</td>\n",
       "      <td>Behr, Mr. Karl Howell</td>\n",
       "      <td>male</td>\n",
       "      <td>26.0</td>\n",
       "      <td>0</td>\n",
       "      <td>0</td>\n",
       "      <td>111369</td>\n",
       "      <td>30.0000</td>\n",
       "      <td>C148</td>\n",
       "      <td>C</td>\n",
       "    </tr>\n",
       "    <tr>\n",
       "      <th>890</th>\n",
       "      <td>891</td>\n",
       "      <td>0</td>\n",
       "      <td>3</td>\n",
       "      <td>Dooley, Mr. Patrick</td>\n",
       "      <td>male</td>\n",
       "      <td>32.0</td>\n",
       "      <td>0</td>\n",
       "      <td>0</td>\n",
       "      <td>370376</td>\n",
       "      <td>7.7500</td>\n",
       "      <td>NaN</td>\n",
       "      <td>Q</td>\n",
       "    </tr>\n",
       "  </tbody>\n",
       "</table>\n",
       "<p>891 rows × 12 columns</p>\n",
       "</div>"
      ],
      "text/plain": [
       "     PassengerId  Survived  Pclass  \\\n",
       "0              1         0       3   \n",
       "1              2         1       1   \n",
       "2              3         1       3   \n",
       "3              4         1       1   \n",
       "4              5         0       3   \n",
       "..           ...       ...     ...   \n",
       "886          887         0       2   \n",
       "887          888         1       1   \n",
       "888          889         0       3   \n",
       "889          890         1       1   \n",
       "890          891         0       3   \n",
       "\n",
       "                                                  Name     Sex   Age  SibSp  \\\n",
       "0                              Braund, Mr. Owen Harris    male  22.0      1   \n",
       "1    Cumings, Mrs. John Bradley (Florence Briggs Th...  female  38.0      1   \n",
       "2                               Heikkinen, Miss. Laina  female  26.0      0   \n",
       "3         Futrelle, Mrs. Jacques Heath (Lily May Peel)  female  35.0      1   \n",
       "4                             Allen, Mr. William Henry    male  35.0      0   \n",
       "..                                                 ...     ...   ...    ...   \n",
       "886                              Montvila, Rev. Juozas    male  27.0      0   \n",
       "887                       Graham, Miss. Margaret Edith  female  19.0      0   \n",
       "888           Johnston, Miss. Catherine Helen \"Carrie\"  female   NaN      1   \n",
       "889                              Behr, Mr. Karl Howell    male  26.0      0   \n",
       "890                                Dooley, Mr. Patrick    male  32.0      0   \n",
       "\n",
       "     Parch            Ticket     Fare Cabin Embarked  \n",
       "0        0         A/5 21171   7.2500   NaN        S  \n",
       "1        0          PC 17599  71.2833   C85        C  \n",
       "2        0  STON/O2. 3101282   7.9250   NaN        S  \n",
       "3        0            113803  53.1000  C123        S  \n",
       "4        0            373450   8.0500   NaN        S  \n",
       "..     ...               ...      ...   ...      ...  \n",
       "886      0            211536  13.0000   NaN        S  \n",
       "887      0            112053  30.0000   B42        S  \n",
       "888      2        W./C. 6607  23.4500   NaN        S  \n",
       "889      0            111369  30.0000  C148        C  \n",
       "890      0            370376   7.7500   NaN        Q  \n",
       "\n",
       "[891 rows x 12 columns]"
      ]
     },
     "execution_count": 32,
     "metadata": {},
     "output_type": "execute_result"
    }
   ],
   "source": [
    "df = pd.read_csv(\"dades.csv\")\n",
    "df"
   ]
  },
  {
   "cell_type": "markdown",
   "metadata": {},
   "source": [
    "En primer lloc, comprovarem si tenim alguna columna del nostre dataset amb algun valor NaN (no numèric):"
   ]
  },
  {
   "cell_type": "code",
   "execution_count": 33,
   "metadata": {},
   "outputs": [
    {
     "data": {
      "text/plain": [
       "PassengerId    False\n",
       "Survived       False\n",
       "Pclass         False\n",
       "Name           False\n",
       "Sex            False\n",
       "Age             True\n",
       "SibSp          False\n",
       "Parch          False\n",
       "Ticket         False\n",
       "Fare           False\n",
       "Cabin           True\n",
       "Embarked        True\n",
       "dtype: bool"
      ]
     },
     "execution_count": 33,
     "metadata": {},
     "output_type": "execute_result"
    }
   ],
   "source": [
    "df.isnull().any()"
   ]
  },
  {
   "cell_type": "markdown",
   "metadata": {},
   "source": [
    "Ens adonam que tres de les dotze variables tenen valors no numèrics. Però, ens interessa saber quin tant per cent de les files no ens donen cap informació, ja que podria ser una informació d'útilitat per descartar directament qualque variable."
   ]
  },
  {
   "cell_type": "code",
   "execution_count": 34,
   "metadata": {},
   "outputs": [
    {
     "name": "stdout",
     "output_type": "stream",
     "text": [
      "Cabin          77.104377\n",
      "Age            19.865320\n",
      "Embarked        0.224467\n",
      "PassengerId     0.000000\n",
      "Survived        0.000000\n",
      "Pclass          0.000000\n",
      "Name            0.000000\n",
      "Sex             0.000000\n",
      "SibSp           0.000000\n",
      "Parch           0.000000\n",
      "Ticket          0.000000\n",
      "Fare            0.000000\n",
      "dtype: float64\n"
     ]
    }
   ],
   "source": [
    "na_ratio = ((df.isnull().sum() / len(df))*100).sort_values(ascending = False)\n",
    "print(na_ratio)"
   ]
  },
  {
   "cell_type": "markdown",
   "metadata": {},
   "source": [
    "Analitzam els valors no numèrics de les tres primeres variables:\n",
    "\n",
    "- **Cabin**: Els valors no numèrics ens indiquen realment que aquell passatger no tenia cabina (camarot). Llavors, realment un 77% dels passatgers anaven sense cabina. Això ens indica que no és necessari eliiminar aquesta variable (de primeres), ja que ens podria estar donant una informació útil; que valorarem en fer la correlació. El que farem serà modificar la taula i els passatgers amb valor no numèric passaran a tenir un 0 i els que tinguin qualque cabina 1. D'aquesta manera sabrem quin passatger té o no cabina.\n",
    "- **Age**: L'edat sol ser una informació de gran valor, ja que ens podria donar molta informació de quin grup de persones tenen més probabilitats de sobreviure. Per tant, haurem de substituir els valors no numèrics per la mitjana d'edat de la resta de persones al vaixell; amb l'objectiu de minimitzar l'impacte que podrien tenir en els nostres resultats aquesta falta d'informació d'alguns tripulants.\n",
    "- **Embarked**: Aquesta variable ens aporta poca infromació útil, degut a que no hi ha una relació directe entre les persones que embarquen en *x* port, amb la probabilitat de sobreviure. El vaixell es va enfonsar en mig de l'Atlàntic, i a causa d'un iceberg. Però, no la descartarem fins a realitzar la respectiva correlacio, i com el nombre de valors no numèrics és insignficiant, tampoc la netejarem. El que si farem (per realitzar la respectiva correlació) és modificar els valors per S = 1, C = 2, Q = 3, per diferenciar els tres ports d'orígen.\n",
    "\n",
    "A continuació, el procés de neteja del dataset:"
   ]
  },
  {
   "cell_type": "code",
   "execution_count": 35,
   "metadata": {},
   "outputs": [
    {
     "data": {
      "text/html": [
       "<div>\n",
       "<style scoped>\n",
       "    .dataframe tbody tr th:only-of-type {\n",
       "        vertical-align: middle;\n",
       "    }\n",
       "\n",
       "    .dataframe tbody tr th {\n",
       "        vertical-align: top;\n",
       "    }\n",
       "\n",
       "    .dataframe thead th {\n",
       "        text-align: right;\n",
       "    }\n",
       "</style>\n",
       "<table border=\"1\" class=\"dataframe\">\n",
       "  <thead>\n",
       "    <tr style=\"text-align: right;\">\n",
       "      <th></th>\n",
       "      <th>Survived</th>\n",
       "      <th>Pclass</th>\n",
       "      <th>Sex</th>\n",
       "      <th>Age</th>\n",
       "      <th>SibSp</th>\n",
       "      <th>Parch</th>\n",
       "      <th>Fare</th>\n",
       "      <th>Cabin</th>\n",
       "      <th>Embarked</th>\n",
       "    </tr>\n",
       "  </thead>\n",
       "  <tbody>\n",
       "    <tr>\n",
       "      <th>0</th>\n",
       "      <td>0</td>\n",
       "      <td>3</td>\n",
       "      <td>male</td>\n",
       "      <td>22.0</td>\n",
       "      <td>1</td>\n",
       "      <td>0</td>\n",
       "      <td>7.2500</td>\n",
       "      <td>0</td>\n",
       "      <td>S</td>\n",
       "    </tr>\n",
       "    <tr>\n",
       "      <th>1</th>\n",
       "      <td>1</td>\n",
       "      <td>1</td>\n",
       "      <td>female</td>\n",
       "      <td>38.0</td>\n",
       "      <td>1</td>\n",
       "      <td>0</td>\n",
       "      <td>71.2833</td>\n",
       "      <td>1</td>\n",
       "      <td>C</td>\n",
       "    </tr>\n",
       "    <tr>\n",
       "      <th>2</th>\n",
       "      <td>1</td>\n",
       "      <td>3</td>\n",
       "      <td>female</td>\n",
       "      <td>26.0</td>\n",
       "      <td>0</td>\n",
       "      <td>0</td>\n",
       "      <td>7.9250</td>\n",
       "      <td>0</td>\n",
       "      <td>S</td>\n",
       "    </tr>\n",
       "    <tr>\n",
       "      <th>3</th>\n",
       "      <td>1</td>\n",
       "      <td>1</td>\n",
       "      <td>female</td>\n",
       "      <td>35.0</td>\n",
       "      <td>1</td>\n",
       "      <td>0</td>\n",
       "      <td>53.1000</td>\n",
       "      <td>1</td>\n",
       "      <td>S</td>\n",
       "    </tr>\n",
       "    <tr>\n",
       "      <th>4</th>\n",
       "      <td>0</td>\n",
       "      <td>3</td>\n",
       "      <td>male</td>\n",
       "      <td>35.0</td>\n",
       "      <td>0</td>\n",
       "      <td>0</td>\n",
       "      <td>8.0500</td>\n",
       "      <td>0</td>\n",
       "      <td>S</td>\n",
       "    </tr>\n",
       "    <tr>\n",
       "      <th>...</th>\n",
       "      <td>...</td>\n",
       "      <td>...</td>\n",
       "      <td>...</td>\n",
       "      <td>...</td>\n",
       "      <td>...</td>\n",
       "      <td>...</td>\n",
       "      <td>...</td>\n",
       "      <td>...</td>\n",
       "      <td>...</td>\n",
       "    </tr>\n",
       "    <tr>\n",
       "      <th>886</th>\n",
       "      <td>0</td>\n",
       "      <td>2</td>\n",
       "      <td>male</td>\n",
       "      <td>27.0</td>\n",
       "      <td>0</td>\n",
       "      <td>0</td>\n",
       "      <td>13.0000</td>\n",
       "      <td>0</td>\n",
       "      <td>S</td>\n",
       "    </tr>\n",
       "    <tr>\n",
       "      <th>887</th>\n",
       "      <td>1</td>\n",
       "      <td>1</td>\n",
       "      <td>female</td>\n",
       "      <td>19.0</td>\n",
       "      <td>0</td>\n",
       "      <td>0</td>\n",
       "      <td>30.0000</td>\n",
       "      <td>1</td>\n",
       "      <td>S</td>\n",
       "    </tr>\n",
       "    <tr>\n",
       "      <th>888</th>\n",
       "      <td>0</td>\n",
       "      <td>3</td>\n",
       "      <td>female</td>\n",
       "      <td>29.0</td>\n",
       "      <td>1</td>\n",
       "      <td>2</td>\n",
       "      <td>23.4500</td>\n",
       "      <td>0</td>\n",
       "      <td>S</td>\n",
       "    </tr>\n",
       "    <tr>\n",
       "      <th>889</th>\n",
       "      <td>1</td>\n",
       "      <td>1</td>\n",
       "      <td>male</td>\n",
       "      <td>26.0</td>\n",
       "      <td>0</td>\n",
       "      <td>0</td>\n",
       "      <td>30.0000</td>\n",
       "      <td>1</td>\n",
       "      <td>C</td>\n",
       "    </tr>\n",
       "    <tr>\n",
       "      <th>890</th>\n",
       "      <td>0</td>\n",
       "      <td>3</td>\n",
       "      <td>male</td>\n",
       "      <td>32.0</td>\n",
       "      <td>0</td>\n",
       "      <td>0</td>\n",
       "      <td>7.7500</td>\n",
       "      <td>0</td>\n",
       "      <td>Q</td>\n",
       "    </tr>\n",
       "  </tbody>\n",
       "</table>\n",
       "<p>891 rows × 9 columns</p>\n",
       "</div>"
      ],
      "text/plain": [
       "     Survived  Pclass     Sex   Age  SibSp  Parch     Fare  Cabin Embarked\n",
       "0           0       3    male  22.0      1      0   7.2500      0        S\n",
       "1           1       1  female  38.0      1      0  71.2833      1        C\n",
       "2           1       3  female  26.0      0      0   7.9250      0        S\n",
       "3           1       1  female  35.0      1      0  53.1000      1        S\n",
       "4           0       3    male  35.0      0      0   8.0500      0        S\n",
       "..        ...     ...     ...   ...    ...    ...      ...    ...      ...\n",
       "886         0       2    male  27.0      0      0  13.0000      0        S\n",
       "887         1       1  female  19.0      0      0  30.0000      1        S\n",
       "888         0       3  female  29.0      1      2  23.4500      0        S\n",
       "889         1       1    male  26.0      0      0  30.0000      1        C\n",
       "890         0       3    male  32.0      0      0   7.7500      0        Q\n",
       "\n",
       "[891 rows x 9 columns]"
      ]
     },
     "execution_count": 35,
     "metadata": {},
     "output_type": "execute_result"
    }
   ],
   "source": [
    "model = df\n",
    "\n",
    "# Eliminam les variables PassengerId, Name i Ticket\n",
    "del model[\"PassengerId\"]\n",
    "del model[\"Name\"]\n",
    "del model[\"Ticket\"]\n",
    "\n",
    "# Calculam la mitjana d'edat de la gent del vaixell\n",
    "edat = model[[\"Age\"]]\n",
    "edat = edat.dropna()\n",
    "edat = int(edat.mean())\n",
    "edat = float(edat)\n",
    "\n",
    "# Modificam els valors no numèrics per la mitjana\n",
    "model[\"Age\"] = model[\"Age\"].replace(np.nan, edat)\n",
    "\n",
    "# Modificam el valor Cabin\n",
    "model[\"Cabin\"] = model[\"Cabin\"].notnull().astype(\"int\")\n",
    "\n",
    "# Modificam el valor Embarked\n",
    "# model[\"Embarked\"] = model[\"Embarked\"].replace(to_replace=\"S\", value=1)\n",
    "\n",
    "model\n"
   ]
  },
  {
   "cell_type": "markdown",
   "metadata": {},
   "source": [
    "## 1.2. Caracterització de les dades"
   ]
  },
  {
   "cell_type": "markdown",
   "metadata": {},
   "source": [
    "Finalment, realtizarem una caracterització de les variables categòriques:"
   ]
  },
  {
   "cell_type": "code",
   "execution_count": 37,
   "metadata": {},
   "outputs": [
    {
     "ename": "TypeError",
     "evalue": "'<' not supported between instances of 'float' and 'str'",
     "output_type": "error",
     "traceback": [
      "\u001b[0;31m---------------------------------------------------------------------------\u001b[0m",
      "\u001b[0;31mTypeError\u001b[0m                                 Traceback (most recent call last)",
      "Cell \u001b[0;32mIn [37], line 3\u001b[0m\n\u001b[1;32m      1\u001b[0m \u001b[39m# Classificam la variable Fare\u001b[39;00m\n\u001b[1;32m      2\u001b[0m \u001b[39mfor\u001b[39;00m i \u001b[39min\u001b[39;00m model[\u001b[39m\"\u001b[39m\u001b[39mFare\u001b[39m\u001b[39m\"\u001b[39m]:\n\u001b[0;32m----> 3\u001b[0m     model[\u001b[39m\"\u001b[39m\u001b[39mFare_bin\u001b[39m\u001b[39m\"\u001b[39m] \u001b[39m=\u001b[39m pd\u001b[39m.\u001b[39;49mcut(model[\u001b[39m\"\u001b[39;49m\u001b[39mFare\u001b[39;49m\u001b[39m\"\u001b[39;49m], bins\u001b[39m=\u001b[39;49m[\u001b[39m0\u001b[39;49m, \u001b[39m7.91\u001b[39;49m, \u001b[39m14.45\u001b[39;49m, \u001b[39m31\u001b[39;49m, \u001b[39m120\u001b[39;49m], labels\u001b[39m=\u001b[39;49m[\u001b[39m\"\u001b[39;49m\u001b[39mLow\u001b[39;49m\u001b[39m\"\u001b[39;49m, \u001b[39m\"\u001b[39;49m\u001b[39mMedian\u001b[39;49m\u001b[39m\"\u001b[39;49m, \u001b[39m\"\u001b[39;49m\u001b[39mAverage\u001b[39;49m\u001b[39m\"\u001b[39;49m, \u001b[39m\"\u001b[39;49m\u001b[39mHigh\u001b[39;49m\u001b[39m\"\u001b[39;49m])\n\u001b[1;32m      5\u001b[0m model \u001b[39m=\u001b[39m pd\u001b[39m.\u001b[39mget_dummies(model, columns\u001b[39m=\u001b[39m[\u001b[39m\"\u001b[39m\u001b[39mPclass\u001b[39m\u001b[39m\"\u001b[39m, \u001b[39m\"\u001b[39m\u001b[39mSex\u001b[39m\u001b[39m\"\u001b[39m, \u001b[39m\"\u001b[39m\u001b[39mEmbarked\u001b[39m\u001b[39m\"\u001b[39m, \u001b[39m\"\u001b[39m\u001b[39mFare\u001b[39m\u001b[39m\"\u001b[39m], prefix\u001b[39m=\u001b[39m[\u001b[39m\"\u001b[39m\u001b[39mPclass_\u001b[39m\u001b[39m\"\u001b[39m, \u001b[39m\"\u001b[39m\u001b[39mSex_\u001b[39m\u001b[39m\"\u001b[39m, \u001b[39m\"\u001b[39m\u001b[39mEmbarked_\u001b[39m\u001b[39m\"\u001b[39m, \u001b[39m\"\u001b[39m\u001b[39mFare_type_\u001b[39m\u001b[39m\"\u001b[39m])\n\u001b[1;32m      6\u001b[0m model\n",
      "File \u001b[0;32m~/.local/lib/python3.10/site-packages/pandas/core/reshape/tile.py:292\u001b[0m, in \u001b[0;36mcut\u001b[0;34m(x, bins, right, labels, retbins, precision, include_lowest, duplicates, ordered)\u001b[0m\n\u001b[1;32m    289\u001b[0m     \u001b[39mif\u001b[39;00m (np\u001b[39m.\u001b[39mdiff(bins\u001b[39m.\u001b[39mastype(\u001b[39m\"\u001b[39m\u001b[39mfloat64\u001b[39m\u001b[39m\"\u001b[39m)) \u001b[39m<\u001b[39m \u001b[39m0\u001b[39m)\u001b[39m.\u001b[39many():\n\u001b[1;32m    290\u001b[0m         \u001b[39mraise\u001b[39;00m \u001b[39mValueError\u001b[39;00m(\u001b[39m\"\u001b[39m\u001b[39mbins must increase monotonically.\u001b[39m\u001b[39m\"\u001b[39m)\n\u001b[0;32m--> 292\u001b[0m fac, bins \u001b[39m=\u001b[39m _bins_to_cuts(\n\u001b[1;32m    293\u001b[0m     x,\n\u001b[1;32m    294\u001b[0m     bins,\n\u001b[1;32m    295\u001b[0m     right\u001b[39m=\u001b[39;49mright,\n\u001b[1;32m    296\u001b[0m     labels\u001b[39m=\u001b[39;49mlabels,\n\u001b[1;32m    297\u001b[0m     precision\u001b[39m=\u001b[39;49mprecision,\n\u001b[1;32m    298\u001b[0m     include_lowest\u001b[39m=\u001b[39;49minclude_lowest,\n\u001b[1;32m    299\u001b[0m     dtype\u001b[39m=\u001b[39;49mdtype,\n\u001b[1;32m    300\u001b[0m     duplicates\u001b[39m=\u001b[39;49mduplicates,\n\u001b[1;32m    301\u001b[0m     ordered\u001b[39m=\u001b[39;49mordered,\n\u001b[1;32m    302\u001b[0m )\n\u001b[1;32m    304\u001b[0m \u001b[39mreturn\u001b[39;00m _postprocess_for_cut(fac, bins, retbins, dtype, original)\n",
      "File \u001b[0;32m~/.local/lib/python3.10/site-packages/pandas/core/reshape/tile.py:427\u001b[0m, in \u001b[0;36m_bins_to_cuts\u001b[0;34m(x, bins, right, labels, precision, include_lowest, dtype, duplicates, ordered)\u001b[0m\n\u001b[1;32m    424\u001b[0m         bins \u001b[39m=\u001b[39m unique_bins\n\u001b[1;32m    426\u001b[0m side: Literal[\u001b[39m\"\u001b[39m\u001b[39mleft\u001b[39m\u001b[39m\"\u001b[39m, \u001b[39m\"\u001b[39m\u001b[39mright\u001b[39m\u001b[39m\"\u001b[39m] \u001b[39m=\u001b[39m \u001b[39m\"\u001b[39m\u001b[39mleft\u001b[39m\u001b[39m\"\u001b[39m \u001b[39mif\u001b[39;00m right \u001b[39melse\u001b[39;00m \u001b[39m\"\u001b[39m\u001b[39mright\u001b[39m\u001b[39m\"\u001b[39m\n\u001b[0;32m--> 427\u001b[0m ids \u001b[39m=\u001b[39m ensure_platform_int(bins\u001b[39m.\u001b[39;49msearchsorted(x, side\u001b[39m=\u001b[39;49mside))\n\u001b[1;32m    429\u001b[0m \u001b[39mif\u001b[39;00m include_lowest:\n\u001b[1;32m    430\u001b[0m     ids[np\u001b[39m.\u001b[39masarray(x) \u001b[39m==\u001b[39m bins[\u001b[39m0\u001b[39m]] \u001b[39m=\u001b[39m \u001b[39m1\u001b[39m\n",
      "\u001b[0;31mTypeError\u001b[0m: '<' not supported between instances of 'float' and 'str'"
     ]
    }
   ],
   "source": [
    "# Classificam la variable Fare\n",
    "for i in model[\"Fare\"]:\n",
    "    model[\"Fare_bin\"] = pd.cut(model[\"Fare\"], bins=[0, 7.91, 14.45, 31, 120], labels=[\"Low\", \"Median\", \"Average\", \"High\"])\n",
    "\n",
    "model = pd.get_dummies(model, columns=[\"Pclass\", \"Sex\", \"Embarked\", \"Fare\"], prefix=[\"Pclass_\", \"Sex_\", \"Embarked_\", \"Fare_type_\"])\n",
    "model\n",
    "\n",
    "# Columna Embarked"
   ]
  },
  {
   "cell_type": "markdown",
   "metadata": {},
   "source": [
    "## 1.3. Anàlisis del dataset"
   ]
  },
  {
   "cell_type": "markdown",
   "metadata": {},
   "source": [
    "En primer lloc realitzarem una correlacio de totes les variables per analitzar quines ens poden interessar i quines no."
   ]
  },
  {
   "cell_type": "code",
   "execution_count": 25,
   "metadata": {},
   "outputs": [
    {
     "data": {
      "text/plain": [
       "<AxesSubplot: >"
      ]
     },
     "execution_count": 25,
     "metadata": {},
     "output_type": "execute_result"
    },
    {
     "data": {
      "image/png": "[encoded data removed]",
      "text/plain": [
       "<Figure size 1000x1000 with 2 Axes>"
      ]
     },
     "metadata": {},
     "output_type": "display_data"
    }
   ],
   "source": [
    "corr_fig = plt.figure(figsize=(10,10))\n",
    "sns.heatmap(model.corr(), annot=True, square=True, cmap=\"RdYlGn\", linewidths=0.2)"
   ]
  },
  {
   "cell_type": "markdown",
   "metadata": {},
   "source": [
    "A continuació realitzarem una segona correlació amb una variable nova. Aquesta serà la variable Family, que es crearà a partir de la suma de la variable Sibsp i Parch. L'objectiu d'aquesta prova és comprobar si el fet de tenir o no familiars a bord, va ser un motiu de pes a l'hora de sobreviure. Intuitivament podriem pensar que si, però hem de comprovar-ho."
   ]
  },
  {
   "cell_type": "code",
   "execution_count": 26,
   "metadata": {},
   "outputs": [
    {
     "data": {
      "text/html": [
       "<div>\n",
       "<style scoped>\n",
       "    .dataframe tbody tr th:only-of-type {\n",
       "        vertical-align: middle;\n",
       "    }\n",
       "\n",
       "    .dataframe tbody tr th {\n",
       "        vertical-align: top;\n",
       "    }\n",
       "\n",
       "    .dataframe thead th {\n",
       "        text-align: right;\n",
       "    }\n",
       "</style>\n",
       "<table border=\"1\" class=\"dataframe\">\n",
       "  <thead>\n",
       "    <tr style=\"text-align: right;\">\n",
       "      <th></th>\n",
       "      <th>Survived</th>\n",
       "      <th>Pclass</th>\n",
       "      <th>Sex</th>\n",
       "      <th>Age</th>\n",
       "      <th>Family</th>\n",
       "      <th>Fare</th>\n",
       "      <th>Cabin</th>\n",
       "      <th>Embarked</th>\n",
       "    </tr>\n",
       "  </thead>\n",
       "  <tbody>\n",
       "    <tr>\n",
       "      <th>0</th>\n",
       "      <td>0</td>\n",
       "      <td>3</td>\n",
       "      <td>0</td>\n",
       "      <td>22.0</td>\n",
       "      <td>1</td>\n",
       "      <td>7.2500</td>\n",
       "      <td>0</td>\n",
       "      <td>S</td>\n",
       "    </tr>\n",
       "    <tr>\n",
       "      <th>1</th>\n",
       "      <td>1</td>\n",
       "      <td>1</td>\n",
       "      <td>1</td>\n",
       "      <td>38.0</td>\n",
       "      <td>1</td>\n",
       "      <td>71.2833</td>\n",
       "      <td>1</td>\n",
       "      <td>C</td>\n",
       "    </tr>\n",
       "    <tr>\n",
       "      <th>2</th>\n",
       "      <td>1</td>\n",
       "      <td>3</td>\n",
       "      <td>1</td>\n",
       "      <td>26.0</td>\n",
       "      <td>0</td>\n",
       "      <td>7.9250</td>\n",
       "      <td>0</td>\n",
       "      <td>S</td>\n",
       "    </tr>\n",
       "    <tr>\n",
       "      <th>3</th>\n",
       "      <td>1</td>\n",
       "      <td>1</td>\n",
       "      <td>1</td>\n",
       "      <td>35.0</td>\n",
       "      <td>1</td>\n",
       "      <td>53.1000</td>\n",
       "      <td>1</td>\n",
       "      <td>S</td>\n",
       "    </tr>\n",
       "    <tr>\n",
       "      <th>4</th>\n",
       "      <td>0</td>\n",
       "      <td>3</td>\n",
       "      <td>0</td>\n",
       "      <td>35.0</td>\n",
       "      <td>0</td>\n",
       "      <td>8.0500</td>\n",
       "      <td>0</td>\n",
       "      <td>S</td>\n",
       "    </tr>\n",
       "    <tr>\n",
       "      <th>...</th>\n",
       "      <td>...</td>\n",
       "      <td>...</td>\n",
       "      <td>...</td>\n",
       "      <td>...</td>\n",
       "      <td>...</td>\n",
       "      <td>...</td>\n",
       "      <td>...</td>\n",
       "      <td>...</td>\n",
       "    </tr>\n",
       "    <tr>\n",
       "      <th>886</th>\n",
       "      <td>0</td>\n",
       "      <td>2</td>\n",
       "      <td>0</td>\n",
       "      <td>27.0</td>\n",
       "      <td>0</td>\n",
       "      <td>13.0000</td>\n",
       "      <td>0</td>\n",
       "      <td>S</td>\n",
       "    </tr>\n",
       "    <tr>\n",
       "      <th>887</th>\n",
       "      <td>1</td>\n",
       "      <td>1</td>\n",
       "      <td>1</td>\n",
       "      <td>19.0</td>\n",
       "      <td>0</td>\n",
       "      <td>30.0000</td>\n",
       "      <td>1</td>\n",
       "      <td>S</td>\n",
       "    </tr>\n",
       "    <tr>\n",
       "      <th>888</th>\n",
       "      <td>0</td>\n",
       "      <td>3</td>\n",
       "      <td>1</td>\n",
       "      <td>29.0</td>\n",
       "      <td>3</td>\n",
       "      <td>23.4500</td>\n",
       "      <td>0</td>\n",
       "      <td>S</td>\n",
       "    </tr>\n",
       "    <tr>\n",
       "      <th>889</th>\n",
       "      <td>1</td>\n",
       "      <td>1</td>\n",
       "      <td>0</td>\n",
       "      <td>26.0</td>\n",
       "      <td>0</td>\n",
       "      <td>30.0000</td>\n",
       "      <td>1</td>\n",
       "      <td>C</td>\n",
       "    </tr>\n",
       "    <tr>\n",
       "      <th>890</th>\n",
       "      <td>0</td>\n",
       "      <td>3</td>\n",
       "      <td>0</td>\n",
       "      <td>32.0</td>\n",
       "      <td>0</td>\n",
       "      <td>7.7500</td>\n",
       "      <td>0</td>\n",
       "      <td>Q</td>\n",
       "    </tr>\n",
       "  </tbody>\n",
       "</table>\n",
       "<p>891 rows × 8 columns</p>\n",
       "</div>"
      ],
      "text/plain": [
       "     Survived  Pclass  Sex   Age  Family     Fare  Cabin Embarked\n",
       "0           0       3    0  22.0       1   7.2500      0        S\n",
       "1           1       1    1  38.0       1  71.2833      1        C\n",
       "2           1       3    1  26.0       0   7.9250      0        S\n",
       "3           1       1    1  35.0       1  53.1000      1        S\n",
       "4           0       3    0  35.0       0   8.0500      0        S\n",
       "..        ...     ...  ...   ...     ...      ...    ...      ...\n",
       "886         0       2    0  27.0       0  13.0000      0        S\n",
       "887         1       1    1  19.0       0  30.0000      1        S\n",
       "888         0       3    1  29.0       3  23.4500      0        S\n",
       "889         1       1    0  26.0       0  30.0000      1        C\n",
       "890         0       3    0  32.0       0   7.7500      0        Q\n",
       "\n",
       "[891 rows x 8 columns]"
      ]
     },
     "execution_count": 26,
     "metadata": {},
     "output_type": "execute_result"
    }
   ],
   "source": [
    "sibsp = model[\"SibSp\"]\n",
    "parch = model[\"Parch\"]\n",
    "family = []\n",
    "\n",
    "# Cream la nova columna family\n",
    "for i in range(len(sibsp)):\n",
    "    family.append(sibsp[i] + parch[i])\n",
    "\n",
    "# Eliminam les variables sibsp i parch del dataset\n",
    "del model[\"SibSp\"]\n",
    "del model[\"Parch\"]\n",
    "\n",
    "# Afegim la columna family\n",
    "model.insert(4, \"Family\", family, True)\n",
    "\n",
    "model"
   ]
  },
  {
   "cell_type": "markdown",
   "metadata": {},
   "source": [
    "Tornam a fer la correlació amb la nova variable:"
   ]
  },
  {
   "cell_type": "code",
   "execution_count": 27,
   "metadata": {},
   "outputs": [
    {
     "data": {
      "text/plain": [
       "<AxesSubplot: >"
      ]
     },
     "execution_count": 27,
     "metadata": {},
     "output_type": "execute_result"
    },
    {
     "data": {
      "image/png": "[encoded data removed]",
      "text/plain": [
       "<Figure size 1000x1000 with 2 Axes>"
      ]
     },
     "metadata": {},
     "output_type": "display_data"
    }
   ],
   "source": [
    "\n",
    "corr_fig = plt.figure(figsize=(10,10))\n",
    "sns.heatmap(model.corr(), annot=True, square=True, cmap=\"RdYlGn\", linewidths=0.2)"
   ]
  },
  {
   "cell_type": "markdown",
   "metadata": {},
   "source": [
    "Llavors ens adonem que aquesta variable no afecta pràcticament i per tant podriem descartar-la. Llavors, les variables que més ens interessen són les que comparades amb \"Survived\", prenen valors o molt a prop de 1 o de -1; és a dir, que tindran molta correlació."
   ]
  },
  {
   "cell_type": "code",
   "execution_count": 28,
   "metadata": {},
   "outputs": [
    {
     "data": {
      "text/html": [
       "<div>\n",
       "<style scoped>\n",
       "    .dataframe tbody tr th:only-of-type {\n",
       "        vertical-align: middle;\n",
       "    }\n",
       "\n",
       "    .dataframe tbody tr th {\n",
       "        vertical-align: top;\n",
       "    }\n",
       "\n",
       "    .dataframe thead th {\n",
       "        text-align: right;\n",
       "    }\n",
       "</style>\n",
       "<table border=\"1\" class=\"dataframe\">\n",
       "  <thead>\n",
       "    <tr style=\"text-align: right;\">\n",
       "      <th></th>\n",
       "      <th>Survived</th>\n",
       "      <th>Pclass</th>\n",
       "      <th>Sex</th>\n",
       "      <th>Age</th>\n",
       "      <th>Family</th>\n",
       "      <th>Fare</th>\n",
       "      <th>Cabin</th>\n",
       "      <th>Embarked</th>\n",
       "    </tr>\n",
       "  </thead>\n",
       "  <tbody>\n",
       "    <tr>\n",
       "      <th>0</th>\n",
       "      <td>0</td>\n",
       "      <td>3</td>\n",
       "      <td>0</td>\n",
       "      <td>22.0</td>\n",
       "      <td>1</td>\n",
       "      <td>7.2500</td>\n",
       "      <td>0</td>\n",
       "      <td>S</td>\n",
       "    </tr>\n",
       "    <tr>\n",
       "      <th>1</th>\n",
       "      <td>1</td>\n",
       "      <td>1</td>\n",
       "      <td>1</td>\n",
       "      <td>38.0</td>\n",
       "      <td>1</td>\n",
       "      <td>71.2833</td>\n",
       "      <td>1</td>\n",
       "      <td>C</td>\n",
       "    </tr>\n",
       "    <tr>\n",
       "      <th>2</th>\n",
       "      <td>1</td>\n",
       "      <td>3</td>\n",
       "      <td>1</td>\n",
       "      <td>26.0</td>\n",
       "      <td>0</td>\n",
       "      <td>7.9250</td>\n",
       "      <td>0</td>\n",
       "      <td>S</td>\n",
       "    </tr>\n",
       "    <tr>\n",
       "      <th>3</th>\n",
       "      <td>1</td>\n",
       "      <td>1</td>\n",
       "      <td>1</td>\n",
       "      <td>35.0</td>\n",
       "      <td>1</td>\n",
       "      <td>53.1000</td>\n",
       "      <td>1</td>\n",
       "      <td>S</td>\n",
       "    </tr>\n",
       "    <tr>\n",
       "      <th>4</th>\n",
       "      <td>0</td>\n",
       "      <td>3</td>\n",
       "      <td>0</td>\n",
       "      <td>35.0</td>\n",
       "      <td>0</td>\n",
       "      <td>8.0500</td>\n",
       "      <td>0</td>\n",
       "      <td>S</td>\n",
       "    </tr>\n",
       "    <tr>\n",
       "      <th>...</th>\n",
       "      <td>...</td>\n",
       "      <td>...</td>\n",
       "      <td>...</td>\n",
       "      <td>...</td>\n",
       "      <td>...</td>\n",
       "      <td>...</td>\n",
       "      <td>...</td>\n",
       "      <td>...</td>\n",
       "    </tr>\n",
       "    <tr>\n",
       "      <th>886</th>\n",
       "      <td>0</td>\n",
       "      <td>2</td>\n",
       "      <td>0</td>\n",
       "      <td>27.0</td>\n",
       "      <td>0</td>\n",
       "      <td>13.0000</td>\n",
       "      <td>0</td>\n",
       "      <td>S</td>\n",
       "    </tr>\n",
       "    <tr>\n",
       "      <th>887</th>\n",
       "      <td>1</td>\n",
       "      <td>1</td>\n",
       "      <td>1</td>\n",
       "      <td>19.0</td>\n",
       "      <td>0</td>\n",
       "      <td>30.0000</td>\n",
       "      <td>1</td>\n",
       "      <td>S</td>\n",
       "    </tr>\n",
       "    <tr>\n",
       "      <th>888</th>\n",
       "      <td>0</td>\n",
       "      <td>3</td>\n",
       "      <td>1</td>\n",
       "      <td>29.0</td>\n",
       "      <td>3</td>\n",
       "      <td>23.4500</td>\n",
       "      <td>0</td>\n",
       "      <td>S</td>\n",
       "    </tr>\n",
       "    <tr>\n",
       "      <th>889</th>\n",
       "      <td>1</td>\n",
       "      <td>1</td>\n",
       "      <td>0</td>\n",
       "      <td>26.0</td>\n",
       "      <td>0</td>\n",
       "      <td>30.0000</td>\n",
       "      <td>1</td>\n",
       "      <td>C</td>\n",
       "    </tr>\n",
       "    <tr>\n",
       "      <th>890</th>\n",
       "      <td>0</td>\n",
       "      <td>3</td>\n",
       "      <td>0</td>\n",
       "      <td>32.0</td>\n",
       "      <td>0</td>\n",
       "      <td>7.7500</td>\n",
       "      <td>0</td>\n",
       "      <td>Q</td>\n",
       "    </tr>\n",
       "  </tbody>\n",
       "</table>\n",
       "<p>891 rows × 8 columns</p>\n",
       "</div>"
      ],
      "text/plain": [
       "     Survived  Pclass  Sex   Age  Family     Fare  Cabin Embarked\n",
       "0           0       3    0  22.0       1   7.2500      0        S\n",
       "1           1       1    1  38.0       1  71.2833      1        C\n",
       "2           1       3    1  26.0       0   7.9250      0        S\n",
       "3           1       1    1  35.0       1  53.1000      1        S\n",
       "4           0       3    0  35.0       0   8.0500      0        S\n",
       "..        ...     ...  ...   ...     ...      ...    ...      ...\n",
       "886         0       2    0  27.0       0  13.0000      0        S\n",
       "887         1       1    1  19.0       0  30.0000      1        S\n",
       "888         0       3    1  29.0       3  23.4500      0        S\n",
       "889         1       1    0  26.0       0  30.0000      1        C\n",
       "890         0       3    0  32.0       0   7.7500      0        Q\n",
       "\n",
       "[891 rows x 8 columns]"
      ]
     },
     "execution_count": 28,
     "metadata": {},
     "output_type": "execute_result"
    }
   ],
   "source": [
    "model"
   ]
  },
  {
   "cell_type": "markdown",
   "metadata": {},
   "source": [
    "Per tant, podem descartar també les següents variables:  \n",
    "\n",
    "- **PassengerId (ID del passatjer):** A nivell númeric no ens aporta cap informació, únicament serveix per llistar els passatgers a una llista.\n",
    "- **Family (Familiars):** Com hem observat a la correlació anterior, no és una variable debilment relacionada amb sobreviure o no.\n",
    "- **Age (Edat):** Com hem observat a les correlacions anteriors, no és una variable debilment relacionada amb sobreviure o no.\n",
    "- **Embarked (Port d'embarcament):** És una variable amb un índex de correlació bastant baix i per tant, descartable.\n",
    "\n",
    "I ens quedariem amb les variables que **més correlació** tenen: [Survived, Pclass, Sex, Fare, Cabin]"
   ]
  },
  {
   "cell_type": "code",
   "execution_count": 29,
   "metadata": {},
   "outputs": [],
   "source": [
    "del model[\"Family\"]\n",
    "del model[\"Age\"]\n",
    "del model[\"Embarked\"]"
   ]
  },
  {
   "cell_type": "markdown",
   "metadata": {},
   "source": [
    "Una vegada feta la neteja, ens quedaria el següent dataset:"
   ]
  },
  {
   "cell_type": "code",
   "execution_count": 30,
   "metadata": {},
   "outputs": [
    {
     "data": {
      "text/html": [
       "<div>\n",
       "<style scoped>\n",
       "    .dataframe tbody tr th:only-of-type {\n",
       "        vertical-align: middle;\n",
       "    }\n",
       "\n",
       "    .dataframe tbody tr th {\n",
       "        vertical-align: top;\n",
       "    }\n",
       "\n",
       "    .dataframe thead th {\n",
       "        text-align: right;\n",
       "    }\n",
       "</style>\n",
       "<table border=\"1\" class=\"dataframe\">\n",
       "  <thead>\n",
       "    <tr style=\"text-align: right;\">\n",
       "      <th></th>\n",
       "      <th>Survived</th>\n",
       "      <th>Pclass</th>\n",
       "      <th>Sex</th>\n",
       "      <th>Fare</th>\n",
       "      <th>Cabin</th>\n",
       "    </tr>\n",
       "  </thead>\n",
       "  <tbody>\n",
       "    <tr>\n",
       "      <th>0</th>\n",
       "      <td>0</td>\n",
       "      <td>3</td>\n",
       "      <td>0</td>\n",
       "      <td>7.2500</td>\n",
       "      <td>0</td>\n",
       "    </tr>\n",
       "    <tr>\n",
       "      <th>1</th>\n",
       "      <td>1</td>\n",
       "      <td>1</td>\n",
       "      <td>1</td>\n",
       "      <td>71.2833</td>\n",
       "      <td>1</td>\n",
       "    </tr>\n",
       "    <tr>\n",
       "      <th>2</th>\n",
       "      <td>1</td>\n",
       "      <td>3</td>\n",
       "      <td>1</td>\n",
       "      <td>7.9250</td>\n",
       "      <td>0</td>\n",
       "    </tr>\n",
       "    <tr>\n",
       "      <th>3</th>\n",
       "      <td>1</td>\n",
       "      <td>1</td>\n",
       "      <td>1</td>\n",
       "      <td>53.1000</td>\n",
       "      <td>1</td>\n",
       "    </tr>\n",
       "    <tr>\n",
       "      <th>4</th>\n",
       "      <td>0</td>\n",
       "      <td>3</td>\n",
       "      <td>0</td>\n",
       "      <td>8.0500</td>\n",
       "      <td>0</td>\n",
       "    </tr>\n",
       "    <tr>\n",
       "      <th>...</th>\n",
       "      <td>...</td>\n",
       "      <td>...</td>\n",
       "      <td>...</td>\n",
       "      <td>...</td>\n",
       "      <td>...</td>\n",
       "    </tr>\n",
       "    <tr>\n",
       "      <th>886</th>\n",
       "      <td>0</td>\n",
       "      <td>2</td>\n",
       "      <td>0</td>\n",
       "      <td>13.0000</td>\n",
       "      <td>0</td>\n",
       "    </tr>\n",
       "    <tr>\n",
       "      <th>887</th>\n",
       "      <td>1</td>\n",
       "      <td>1</td>\n",
       "      <td>1</td>\n",
       "      <td>30.0000</td>\n",
       "      <td>1</td>\n",
       "    </tr>\n",
       "    <tr>\n",
       "      <th>888</th>\n",
       "      <td>0</td>\n",
       "      <td>3</td>\n",
       "      <td>1</td>\n",
       "      <td>23.4500</td>\n",
       "      <td>0</td>\n",
       "    </tr>\n",
       "    <tr>\n",
       "      <th>889</th>\n",
       "      <td>1</td>\n",
       "      <td>1</td>\n",
       "      <td>0</td>\n",
       "      <td>30.0000</td>\n",
       "      <td>1</td>\n",
       "    </tr>\n",
       "    <tr>\n",
       "      <th>890</th>\n",
       "      <td>0</td>\n",
       "      <td>3</td>\n",
       "      <td>0</td>\n",
       "      <td>7.7500</td>\n",
       "      <td>0</td>\n",
       "    </tr>\n",
       "  </tbody>\n",
       "</table>\n",
       "<p>891 rows × 5 columns</p>\n",
       "</div>"
      ],
      "text/plain": [
       "     Survived  Pclass  Sex     Fare  Cabin\n",
       "0           0       3    0   7.2500      0\n",
       "1           1       1    1  71.2833      1\n",
       "2           1       3    1   7.9250      0\n",
       "3           1       1    1  53.1000      1\n",
       "4           0       3    0   8.0500      0\n",
       "..        ...     ...  ...      ...    ...\n",
       "886         0       2    0  13.0000      0\n",
       "887         1       1    1  30.0000      1\n",
       "888         0       3    1  23.4500      0\n",
       "889         1       1    0  30.0000      1\n",
       "890         0       3    0   7.7500      0\n",
       "\n",
       "[891 rows x 5 columns]"
      ]
     },
     "execution_count": 30,
     "metadata": {},
     "output_type": "execute_result"
    }
   ],
   "source": [
    "model"
   ]
  },
  {
   "cell_type": "markdown",
   "metadata": {},
   "source": [
    "# 2. Entrenament"
   ]
  },
  {
   "attachments": {},
   "cell_type": "markdown",
   "metadata": {},
   "source": [
    "En aquest apartat es duran a terme una serie d'entrenaments segons diferents predictors i finalment es compararan els seus rendiments. Abans però, haurem de separar el nostre conjunt de dades per a entrenament, validació i testeig. També normalitzarem les dades per a que les poguem comparar entre elles."
   ]
  },
  {
   "cell_type": "code",
   "execution_count": 31,
   "metadata": {},
   "outputs": [
    {
     "data": {
      "text/plain": [
       "((623, 4), (268, 4), (623,), (268,))"
      ]
     },
     "execution_count": 31,
     "metadata": {},
     "output_type": "execute_result"
    }
   ],
   "source": [
    "scaler = preprocessing.MinMaxScaler()\n",
    "\n",
    "y = model[\"Survived\"]\n",
    "x = model.drop(\"Survived\", axis=1)\n",
    "\n",
    "# Escalam les dades en funció de x\n",
    "x = scaler.fit_transform(x)\n",
    "\n",
    "x_train, x_test, y_train, y_test = train_test_split(x, y, test_size=0.3, stratify=y , random_state=42)\n",
    "x_train.shape, x_test.shape, y_train.shape, y_test.shape"
   ]
  },
  {
   "cell_type": "markdown",
   "metadata": {},
   "source": [
    "## 2.1. Regressió Logística"
   ]
  },
  {
   "cell_type": "code",
   "execution_count": 32,
   "metadata": {},
   "outputs": [
    {
     "name": "stdout",
     "output_type": "stream",
     "text": [
      "{'C': 0.24, 'fit_intercept': True, 'max_iter': 20, 'tol': 1e-06, 'warm_start': True}\n"
     ]
    },
    {
     "data": {
      "text/plain": [
       "0.7912516129032258"
      ]
     },
     "execution_count": 32,
     "metadata": {},
     "output_type": "execute_result"
    }
   ],
   "source": [
    "params = {\n",
    "    \"tol\" : [0.000001, 0.00001, 0.0001, 0.001],\n",
    "    \"C\" : [0.2, 0.21, 0.22, 0.23, 0.24, 0.25],\n",
    "    \"fit_intercept\" : [True, False],\n",
    "    \"max_iter\" : [20, 25, 50, 100],\n",
    "    \"warm_start\" : [True, False]\n",
    "}\n",
    "\n",
    "grid = GridSearchCV(estimator=LogisticRegression(), param_grid=params, scoring='accuracy', n_jobs=4, cv=5)\n",
    "\n",
    "grid.fit(x_train, y_train)\n",
    "\n",
    "print(grid.best_params_)\n",
    "grid.best_score_"
   ]
  },
  {
   "attachments": {},
   "cell_type": "markdown",
   "metadata": {},
   "source": [
    "Amb els paràmetres òptms aconseguits, ho aplicam al nostre model:"
   ]
  },
  {
   "cell_type": "code",
   "execution_count": 33,
   "metadata": {},
   "outputs": [
    {
     "name": "stdout",
     "output_type": "stream",
     "text": [
      "The accuracy is 76.87\n"
     ]
    }
   ],
   "source": [
    "log = LogisticRegression(C= 0.24, max_iter= 20, tol=0.000001, warm_start=True).fit(x_train, y_train)\n",
    "y_hat = log.predict(x_test)\n",
    "\n",
    "# Array de 10 valors per fer-ne la mitjana per a la posterior comparació de rendiments\n",
    "logistic_predicts = []\n",
    "for i in range(10):\n",
    "    logistic_predicts.append(round(accuracy_score(log.predict(x_test),y_test)*100,2))\n",
    "\n",
    "log_pred = np.array(logistic_predicts).mean()\n",
    "\n",
    "print('The accuracy is', log_pred)"
   ]
  },
  {
   "cell_type": "markdown",
   "metadata": {},
   "source": [
    "## 2.2. Perceptró"
   ]
  },
  {
   "cell_type": "code",
   "execution_count": 34,
   "metadata": {},
   "outputs": [
    {
     "name": "stdout",
     "output_type": "stream",
     "text": [
      "{'eta0': 0.1, 'fit_intercept': False, 'max_iter': 100, 'n_iter_no_change': 7, 'penalty': 'elasticnet', 'tol': 0.0001, 'validation_fraction': 0.0001}\n"
     ]
    },
    {
     "data": {
      "text/plain": [
       "0.7928516129032257"
      ]
     },
     "execution_count": 34,
     "metadata": {},
     "output_type": "execute_result"
    }
   ],
   "source": [
    "#Explicar pq los parametros float debemos quitarlos, porque \"teoricamente\" son infinitos y acotarlo es practicamente imposible para encontrar algo optimo\n",
    "params = {\n",
    "    \"penalty\" : [\"l2\", \"l1\", \"elasticnet\"],\n",
    "    \"fit_intercept\" : [True, False],\n",
    "    \"max_iter\" : [100, 150, 200],\n",
    "    \"tol\" : [0.0001, 0.001, 0.01, 0.1],\n",
    "    \"eta0\" : [0.0001, 0.001, 0.01, 0.1],\n",
    "    \"validation_fraction\" : [0.0001, 0.001, 0.1],\n",
    "    \"n_iter_no_change\" : [3, 5, 7, 9]\n",
    "}\n",
    "\n",
    "grid = GridSearchCV(estimator=Perceptron(), param_grid=params, scoring='accuracy', n_jobs=4, cv=5)\n",
    "\n",
    "grid.fit(x_train, y_train)\n",
    "\n",
    "print(grid.best_params_)\n",
    "grid.best_score_"
   ]
  },
  {
   "cell_type": "code",
   "execution_count": 35,
   "metadata": {},
   "outputs": [
    {
     "name": "stdout",
     "output_type": "stream",
     "text": [
      "The accuracy is 72.76\n"
     ]
    }
   ],
   "source": [
    "perc = Perceptron(fit_intercept=False, max_iter=100, n_iter_no_change=7, penalty=\"elasticnet\").fit(x_train, y_train)\n",
    "y_hat = perc.predict(x_test) \n",
    "\n",
    "# Array de 10 valors per fer-ne la mitjana per a la posterior comparació de rendiments\n",
    "perceptron_predicts = []\n",
    "for i in range(10):\n",
    "    perceptron_predicts.append(round(accuracy_score(perc.predict(x_test),y_test)*100,2))\n",
    "\n",
    "percep_pred = np.array(perceptron_predicts).mean()\n",
    "\n",
    "print('The accuracy is', percep_pred)"
   ]
  },
  {
   "cell_type": "markdown",
   "metadata": {},
   "source": [
    "## 2.3. Arbres de decissió"
   ]
  },
  {
   "cell_type": "code",
   "execution_count": 36,
   "metadata": {},
   "outputs": [
    {
     "name": "stdout",
     "output_type": "stream",
     "text": [
      "{'class_weight': 'balanced', 'criterion': 'gini', 'max_features': 'sqrt', 'n_estimators': 30}\n"
     ]
    },
    {
     "data": {
      "text/plain": [
       "0.8201935483870969"
      ]
     },
     "execution_count": 36,
     "metadata": {},
     "output_type": "execute_result"
    }
   ],
   "source": [
    "#Explicar pq los parametros que siempre cojen el valor mas pequeño los quitamos\n",
    "params = {\n",
    "    \"n_estimators\" : [10, 20, 30, 40, 50, 60, 70, 80],\n",
    "    \"criterion\" : [\"gini\", \"entropy\", \"log_loss\"],\n",
    "    \"max_features\" : [\"sqrt\", \"log2\"],\n",
    "    \"class_weight\" : [\"balanced\", \"balanced_subsample\"],\n",
    "}\n",
    "\n",
    "grid = GridSearchCV(estimator=RandomForestClassifier(), param_grid=params, scoring='accuracy', n_jobs=4, cv=5)\n",
    "\n",
    "grid.fit(x_train, y_train)\n",
    "\n",
    "print(grid.best_params_)\n",
    "grid.best_score_"
   ]
  },
  {
   "cell_type": "code",
   "execution_count": 37,
   "metadata": {},
   "outputs": [
    {
     "name": "stdout",
     "output_type": "stream",
     "text": [
      "The accuracy is 75.37\n"
     ]
    }
   ],
   "source": [
    "forest = RandomForestClassifier(class_weight=\"balanced_subsample\", criterion=\"entropy\", max_features=\"log2\", n_estimators=20).fit(x_train, y_train)\n",
    "\n",
    "# Array de 10 valors per fer-ne la mitjana per a la posterior comparació de rendiments\n",
    "forest_predicts = []\n",
    "for i in range(10):\n",
    "    forest_predicts.append(round(accuracy_score(forest.predict(x_test),y_test)*100,2))\n",
    "\n",
    "for_pred = np.array(forest_predicts).mean()\n",
    "\n",
    "print('The accuracy is', for_pred)"
   ]
  },
  {
   "cell_type": "markdown",
   "metadata": {},
   "source": [
    "## 2.4. Comparació dels rendiments"
   ]
  },
  {
   "cell_type": "code",
   "execution_count": 38,
   "metadata": {},
   "outputs": [
    {
     "name": "stdout",
     "output_type": "stream",
     "text": [
      "Regressió Logistica: 76.87, Percptró: 72.76, Abres de decissió: 75.37\n"
     ]
    }
   ],
   "source": [
    "print(f\"Regressió Logistica: {log_pred}, Percptró: {percep_pred}, Abres de decissió: {for_pred}\")"
   ]
  },
  {
   "attachments": {},
   "cell_type": "markdown",
   "metadata": {},
   "source": [
    "Per tant, procedim a comparar aquests rendiments per veure quant millor és un que l'altre. El que farem sera comparar quant de millor és el model d'abres de decissió, ja que és el que millor resultat ens ha donat."
   ]
  },
  {
   "cell_type": "code",
   "execution_count": 39,
   "metadata": {},
   "outputs": [
    {
     "name": "stdout",
     "output_type": "stream",
     "text": [
      "El model d'Arbres de Decissió és un -1.95% millor que la Regressió Logistica\n",
      "El model d'Arbres de Decissió és un 3.59% millor que el Perceptró\n"
     ]
    }
   ],
   "source": [
    "print(f\"El model d'Arbres de Decissió és un {round((((for_pred/log_pred) - 1)) * 100, 2)}% millor que la Regressió Logistica\")\n",
    "print(f\"El model d'Arbres de Decissió és un {round((((for_pred/percep_pred) - 1)) * 100, 2)}% millor que el Perceptró\")"
   ]
  },
  {
   "cell_type": "markdown",
   "metadata": {},
   "source": [
    "# 3. Anàlisis de les característiques"
   ]
  },
  {
   "cell_type": "markdown",
   "metadata": {},
   "source": [
    "Després de veure els resultats de cada predictor, ens adonem que el que ens dona una major precissió és el de Regressió Logistica."
   ]
  },
  {
   "cell_type": "code",
   "execution_count": 40,
   "metadata": {},
   "outputs": [
    {
     "data": {
      "image/png": "[encoded data removed]",
      "text/plain": [
       "<Figure size 640x480 with 1 Axes>"
      ]
     },
     "metadata": {},
     "output_type": "display_data"
    }
   ],
   "source": [
    "log = LogisticRegression()\n",
    "\n",
    "log.fit(x_train, y_train)\n",
    "\n",
    "importance = log.coef_\n",
    "\n",
    "data = {\n",
    "    \"Pclass\" : importance[0][0],\n",
    "    \"Sex\" : importance[0][1],\n",
    "    \"Fare\" : importance[0][2],\n",
    "    \"Cabin\" : importance[0][3],\n",
    "}\n",
    "\n",
    "plt.bar(data.keys(), data.values())\n",
    "plt.show()\n"
   ]
  },
  {
   "cell_type": "code",
   "execution_count": 41,
   "metadata": {},
   "outputs": [
    {
     "data": {
      "image/png": "[encoded data removed]",
      "text/plain": [
       "<Figure size 640x480 with 1 Axes>"
      ]
     },
     "metadata": {},
     "output_type": "display_data"
    }
   ],
   "source": [
    "perc = Perceptron()\n",
    "\n",
    "perc.fit(x_train, y_train)\n",
    "\n",
    "importance = perc.coef_\n",
    "\n",
    "data = {\n",
    "    \"Pclass\" : importance[0][0],\n",
    "    \"Sex\" : importance[0][1],\n",
    "    \"Fare\" : importance[0][2],\n",
    "    \"Cabin\" : importance[0][3],\n",
    "}\n",
    "\n",
    "plt.bar(data.keys(), data.values())\n",
    "plt.show()"
   ]
  },
  {
   "cell_type": "code",
   "execution_count": 42,
   "metadata": {},
   "outputs": [
    {
     "data": {
      "image/png": "[encoded data removed]",
      "text/plain": [
       "<Figure size 640x480 with 1 Axes>"
      ]
     },
     "metadata": {},
     "output_type": "display_data"
    }
   ],
   "source": [
    "forest = RandomForestClassifier()\n",
    "\n",
    "forest.fit(x_train, y_train)\n",
    "\n",
    "importance = forest.feature_importances_\n",
    "\n",
    "importance\n",
    "\n",
    "data = {\n",
    "    \"Pclass\" : importance[0],\n",
    "    \"Sex\" : importance[1],\n",
    "    \"Fare\" : importance[2],\n",
    "    \"Cabin\" : importance[3],\n",
    "}\n",
    "\n",
    "plt.bar(data.keys(), data.values())\n",
    "plt.show()"
   ]
  },
  {
   "cell_type": "markdown",
   "metadata": {},
   "source": [
    "# 4. Conclusions"
   ]
  }
 ],
 "metadata": {
  "kernelspec": {
   "display_name": "Python 3.10.8 64-bit",
   "language": "python",
   "name": "python3"
  },
  "language_info": {
   "codemirror_mode": {
    "name": "ipython",
    "version": 3
   },
   "file_extension": ".py",
   "mimetype": "text/x-python",
   "name": "python",
   "nbconvert_exporter": "python",
   "pygments_lexer": "ipython3",
   "version": "3.10.8"
  },
  "orig_nbformat": 4,
  "vscode": {
   "interpreter": {
    "hash": "e7370f93d1d0cde622a1f8e1c04877d8463912d04d973331ad4851f04de6915a"
   }
  }
 },
 "nbformat": 4,
 "nbformat_minor": 2
}
