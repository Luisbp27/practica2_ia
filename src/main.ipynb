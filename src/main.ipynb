{
 "cells": [
  {
   "cell_type": "markdown",
   "metadata": {},
   "source": [
    "# **Pràctica 2 - L'enfonsament del Titànic i les possiblitats de sobreviure**\n",
    "## Inteligència Artificial - Machine Learning\n",
    "### Grau en Enginyeria Informàtica - Universitat de les Illes Balears\n",
    "\n",
    "#### Autors: Lluis Barca Pons i Victor Canelo Galera"
   ]
  },
  {
   "cell_type": "markdown",
   "metadata": {},
   "source": [
    "Desde l'assignatura d'Intelgència Artificial se'ns ha demanat realitzar un anàlisis sobre el famós enfonsament del vaixell Titànic, l'any 1912. Durant aques naufragi, van morir 1502 de 2224 persones registrades, entre passatgers i tripulants.\n",
    "\n",
    "El més interessant és que sembla ser que existia diferents probabilitats de sobreviure entre alguns grups de persones. Per tant, l'objectiu d'aquesta pràctica és realitzar un model predictiu, utilizant les dades reals recollides, que ens mostri quins tipus de persones tenien més probabiitats de viure.\n",
    "\n",
    "Llavors, la practica es dividira en dues parts:\n",
    "\n",
    "1. Entrenar una serie de predictors i comparar el seu rendiment.\n",
    "\n",
    "2. Obtenir i analitzar la importancia de cada caracteristica per cada un dels models generats."
   ]
  },
  {
   "cell_type": "markdown",
   "metadata": {},
   "source": [
    "# 1. Primera part"
   ]
  },
  {
   "cell_type": "markdown",
   "metadata": {},
   "source": [
    "Per a la configuració del nostre entorn, necessitarem els corresponents imports de les diferents llibreries de Python que utilitzarem durant tota la pràctica."
   ]
  },
  {
   "cell_type": "code",
   "execution_count": null,
   "metadata": {},
   "outputs": [],
   "source": [
    "import warnings\n",
    "import numpy as np\n",
    "import pandas as pd\n",
    "import seaborn as sns\n",
    "import matplotlib.pyplot as plt\n",
    "from sklearn import preprocessing\n",
    "from sklearn.preprocessing import LabelEncoder\n",
    "from sklearn.model_selection import train_test_split\n",
    "from sklearn.model_selection import GridSearchCV\n",
    "from sklearn.metrics import classification_report, accuracy_score\n",
    "from sklearn.linear_model import LogisticRegression, Perceptron\n",
    "from sklearn.ensemble import RandomForestClassifier\n",
    "from sklearn.tree import DecisionTreeClassifier"
   ]
  },
  {
   "cell_type": "markdown",
   "metadata": {},
   "source": [
    "## 1.1. Neteja del dataset"
   ]
  },
  {
   "cell_type": "code",
   "execution_count": null,
   "metadata": {},
   "outputs": [],
   "source": [
    "df = pd.read_csv(\"dades.csv\")\n",
    "df"
   ]
  },
  {
   "cell_type": "markdown",
   "metadata": {},
   "source": [
    "En primer lloc, comprovarem si tenim alguna columna del nostre dataset amb algun valor NaN (no numèric):"
   ]
  },
  {
   "cell_type": "code",
   "execution_count": null,
   "metadata": {},
   "outputs": [],
   "source": [
    "df.isnull().any()"
   ]
  },
  {
   "cell_type": "markdown",
   "metadata": {},
   "source": [
    "Ens adonam que tres de les dotze variables tenen valors no numèrics. Però, ens interessa saber quin tant per cent de les files no ens donen cap informació, ja que podria ser una informació d'útilitat per descartar directament qualque variable."
   ]
  },
  {
   "cell_type": "code",
   "execution_count": null,
   "metadata": {},
   "outputs": [],
   "source": [
    "na_ratio = ((df.isnull().sum() / len(df))*100).sort_values(ascending = False)\n",
    "print(na_ratio)"
   ]
  },
  {
   "cell_type": "markdown",
   "metadata": {},
   "source": [
    "Analitzam els valors no numèrics de les tres primeres variables:\n",
    "\n",
    "- **Cabin**: Els valors no numèrics ens indiquen realment que aquell passatger no tenia cabina (camarot). Llavors, realment un 77% dels passatgers anaven sense cabina. Això ens indica que no és necessari eliiminar aquesta variable (de primeres), ja que ens podria estar donant una informació útil; que valorarem en fer la correlació. El que farem serà modificar la taula i els passatgers amb valor no numèric passaran a tenir un 0 i els que tinguin qualque cabina 1. D'aquesta manera sabrem quin passatger té o no cabina.\n",
    "- **Age**: L'edat sol ser una informació de gran valor, ja que ens podria donar molta informació de quin grup de persones tenen més probabilitats de sobreviure. Per tant, haurem de substituir els valors no numèrics per la mitjana d'edat de la resta de persones al vaixell; amb l'objectiu de minimitzar l'impacte que podrien tenir en els nostres resultats aquesta falta d'informació d'alguns tripulants.\n",
    "- **Embarked**: Aquesta variable ens aporta poca infromació útil, degut a que no hi ha una relació directe entre les persones que embarquen en *x* port, amb la probabilitat de sobreviure. El vaixell es va enfonsar en mig de l'Atlàntic, i a causa d'un iceberg. Però, no la descartarem fins a realitzar la respectiva correlacio, i com el nombre de valors no numèrics és insignficiant, tampoc la netejarem.\n",
    "\n",
    "A continuació, el procés de neteja del dataset:"
   ]
  },
  {
   "cell_type": "code",
   "execution_count": null,
   "metadata": {},
   "outputs": [],
   "source": [
    "model = df\n",
    "\n",
    "# Eliminam les variables PassengerId, Name i Ticket\n",
    "del model[\"PassengerId\"]\n",
    "del model[\"Name\"]\n",
    "del model[\"Ticket\"]\n",
    "\n",
    "# Calculam la mitjana d'edat de la gent del vaixell\n",
    "edat = model[[\"Age\"]]\n",
    "edat = edat.dropna()\n",
    "edat = int(edat.mean())\n",
    "edat = float(edat)\n",
    "\n",
    "# Modificam els valors no numèrics per la mitjana\n",
    "model[\"Age\"] = model[\"Age\"].replace(np.nan, edat)\n",
    "\n",
    "# Modificam el valor Cabin\n",
    "model[\"Cabin\"] = model[\"Cabin\"].notnull().astype(\"int\")\n",
    "\n",
    "model\n"
   ]
  },
  {
   "cell_type": "markdown",
   "metadata": {},
   "source": [
    "## 1.2. Caracterització de les dades"
   ]
  },
  {
   "attachments": {},
   "cell_type": "markdown",
   "metadata": {},
   "source": [
    "Realtizarem la caracterització de les variables categòriques:"
   ]
  },
  {
   "cell_type": "code",
   "execution_count": null,
   "metadata": {},
   "outputs": [],
   "source": [
    "model[\"Fare\"] = pd.cut(model[\"Fare\"], bins=[0, 7.91, 14.45, 31, 120], labels=[\"Low\", \"Median\", \"Average\", \"High\"])\n",
    "\n",
    "model[\"Age\"] = pd.cut(model[\"Age\"], bins=[0, 12, 18, 40, 100], labels=[\"Kid\", \"Teen\", \"Adult\", \"Old\"])\n",
    "\n",
    "model = pd.get_dummies(model, columns=[\"Pclass\", \"Sex\", \"Age\", \"Fare\", \"Embarked\"], prefix=[\"Pclass\", \"Sex\", \"Age\", \"Fare_type\", \"Embarked\"])\n",
    "\n",
    "model"
   ]
  },
  {
   "cell_type": "markdown",
   "metadata": {},
   "source": [
    "## 1.3. Anàlisis del dataset"
   ]
  },
  {
   "cell_type": "markdown",
   "metadata": {},
   "source": [
    "En primer lloc realitzarem una correlacio de totes les variables per analitzar quines ens poden interessar i quines no:"
   ]
  },
  {
   "cell_type": "code",
   "execution_count": null,
   "metadata": {},
   "outputs": [],
   "source": [
    "corr_fig = plt.figure(figsize=(15,15))\n",
    "sns.heatmap(model.corr(), annot=True, square=True, cmap=\"RdYlGn\", linewidths=0.2)"
   ]
  },
  {
   "cell_type": "markdown",
   "metadata": {},
   "source": [
    "A continuació realitzarem una segona correlació amb una variable nova. Aquesta serà la variable Family, que es crearà a partir de la suma de la variable Sibsp i Parch. L'objectiu d'aquesta prova és comprobar si el fet de tenir o no familiars a bord, va ser un motiu de pes a l'hora de sobreviure. Intuitivament podriem pensar que si, però hem de comprovar-ho."
   ]
  },
  {
   "cell_type": "code",
   "execution_count": null,
   "metadata": {},
   "outputs": [],
   "source": [
    "sibsp = model[\"SibSp\"]\n",
    "parch = model[\"Parch\"]\n",
    "family = []\n",
    "\n",
    "# Cream la nova columna family\n",
    "for i in range(len(sibsp)):\n",
    "    family.append(sibsp[i] + parch[i])\n",
    "\n",
    "# Eliminam les variables sibsp i parch del dataset\n",
    "del model[\"SibSp\"]\n",
    "del model[\"Parch\"]\n",
    "\n",
    "# Afegim la columna family\n",
    "model.insert(5, \"Family\", family, True)\n",
    "\n",
    "model"
   ]
  },
  {
   "cell_type": "markdown",
   "metadata": {},
   "source": [
    "Tornam a fer la correlació amb la nova variable:"
   ]
  },
  {
   "cell_type": "code",
   "execution_count": null,
   "metadata": {},
   "outputs": [],
   "source": [
    "corr_fig = plt.figure(figsize=(15,15))\n",
    "sns.heatmap(model.corr(), annot=True, square=True, cmap=\"RdYlGn\", linewidths=0.2)"
   ]
  },
  {
   "cell_type": "markdown",
   "metadata": {},
   "source": [
    "Llavors ens adonem que aquesta variable no afecta pràcticament i per tant podriem descartar-la. Llavors, les variables que més ens interessen són les que comparades amb \"Survived\", prenen valors o molt a prop de 1 o de -1; és a dir, que tindran molta correlació."
   ]
  },
  {
   "cell_type": "code",
   "execution_count": null,
   "metadata": {},
   "outputs": [],
   "source": [
    "model"
   ]
  },
  {
   "attachments": {},
   "cell_type": "markdown",
   "metadata": {},
   "source": [
    "Per tant, podem descartar també les següents variables:"
   ]
  },
  {
   "cell_type": "code",
   "execution_count": null,
   "metadata": {},
   "outputs": [],
   "source": [
    "model_fit = model.copy()\n",
    "\n",
    "del model_fit[\"Pclass_2\"]\n",
    "del model_fit[\"Family\"]\n",
    "del model_fit[\"Age_Kid\"]\n",
    "del model_fit[\"Age_Teen\"]\n",
    "del model_fit[\"Age_Adult\"]\n",
    "del model_fit[\"Age_Old\"]\n",
    "del model_fit[\"Fare_type_Median\"]\n",
    "del model_fit[\"Fare_type_Average\"]\n",
    "del model_fit[\"Embarked_Q\"]\n",
    "\n",
    "model_fit"
   ]
  },
  {
   "attachments": {},
   "cell_type": "markdown",
   "metadata": {},
   "source": [
    "Com ens queda un dataset bastant petit, hem decidt realitzar la part d'entrenament tant amb el dataset complet, com amb el que hem filtrat prèviament. Després de fer els respectius entrenaments amb els diferents models, escollirem el model que més precissió ens doni."
   ]
  },
  {
   "cell_type": "markdown",
   "metadata": {},
   "source": [
    "# 2. Entrenament"
   ]
  },
  {
   "attachments": {},
   "cell_type": "markdown",
   "metadata": {},
   "source": [
    "## 2.1. Model complet"
   ]
  },
  {
   "attachments": {},
   "cell_type": "markdown",
   "metadata": {},
   "source": [
    "En aquest apartat es duran a terme una serie d'entrenaments segons diferents predictors i finalment es comparan els seus rendiments. Abans però, haurem de separar el nostre conjunt de dades per a entrenament, validació i testeig. També normalitzarem les dades per a que les poguem comparar entre elles."
   ]
  },
  {
   "cell_type": "code",
   "execution_count": null,
   "metadata": {},
   "outputs": [],
   "source": [
    "scaler = preprocessing.MinMaxScaler()\n",
    "\n",
    "y = model[\"Survived\"]\n",
    "x = model.drop(\"Survived\", axis=1)\n",
    "\n",
    "# Escalam les dades en funció de x\n",
    "x = scaler.fit_transform(x)\n",
    "\n",
    "x_train, x_test, y_train, y_test = train_test_split(x, y, test_size=0.3, stratify=y , random_state=42)\n",
    "x_train.shape, x_test.shape, y_train.shape, y_test.shape"
   ]
  },
  {
   "attachments": {},
   "cell_type": "markdown",
   "metadata": {},
   "source": [
    "### 2.1.1. Regressió Logística"
   ]
  },
  {
   "attachments": {},
   "cell_type": "markdown",
   "metadata": {},
   "source": [
    "A la biblioteca scikit-learn, la classe LogisticRegression s'utilitza per implementar la regressió logística. Aquesta classe proporciona diversos hiperparàmetres que ens permeten personalitzar el comportament del model.\n",
    "\n",
    "Aquests són alguns dels hiperparàmetres principals de la classe LogisticRegression:\n",
    "\n",
    "- **penalty**: Aquest hiperparàmetre especifica el tipus de regularització a utilitzar. Els valors possibles són \"*l1*\" per a la regularització L1 i \"*l2*\" per a la regularització L2. La regularització L1 afegeix una penalització basada en el valor absolut dels coeficients, mentre que la regularització L2 afegeix una penalització basada en el quadrat dels coeficients.\n",
    "\n",
    "- **C**: Aquest hiperparàmetre controla la força de la regularització. Un valor més petit de C correspon a una regularització més forta, que pot ajudar a evitar el sobreajustament.\n",
    "\n",
    "- **solver**: Aquest hiperparàmetre especifica l'algorisme a utilitzar per a l'optimització. Els valors possibles són \"*newton-cg*\", \"*lbfgs*\", \"*liblinear*\" i \"*sag*\".\n",
    "\n",
    "- **max_iter**: Aquest hiperparàmetre especifica el nombre màxim d'iteracions a utilitzar quan s'ajusta el model.\n",
    "\n",
    "- **tol**: Aquest hiperparàmetre especifica la tolerància per a l'optimització. Si la diferència entre la funció de cost en dues iteracions consecutives és menor que la tolerància, l'optimització s'aturarà.\n",
    "\n",
    "- **multi_class**: Aquest hiperparàmetre especifica l'estratègia a utilitzar quan hi ha diverses classes. Els valors possibles són 'ovr' per a un contra repòs i 'multinomial' per a la pèrdua multinomial.\n",
    "\n",
    "- **fit_intercept**: Aquest hiperparàmetre especifica si s'ha d'ajustar un terme d'intercepció al model.\n",
    "\n",
    "- **class_weight**: Aquest hiperparàmetre us permet especificar pesos de classe per equilibrar la distribució de classes a les dades d'entrada.\n",
    "\n",
    "És important ajustar aquests hiperparàmetres amb cura, ja que poden afectar significativament el rendiment del model"
   ]
  },
  {
   "cell_type": "code",
   "execution_count": null,
   "metadata": {},
   "outputs": [],
   "source": [
    "warnings.filterwarnings(\"ignore\")\n",
    "\n",
    "params = {\n",
    "    \"penalty\" : [\"l1\", \"l2\", \"elasticnet\", None],\n",
    "    \"tol\" : [0.000001, 0.00001, 0.0001, 0.001],\n",
    "    \"C\" : [0.1, 0.2, 0.21, 0.22, 0.23, 0.24, 0.25],\n",
    "    \"fit_intercept\" : [True, False],\n",
    "    \"class_weight\" : [\"balanced\", None],\n",
    "    \"solver\" : [\"lbfgs\", \"liblinear\", \"newton-cg\", \"newton-cholesky\", \"sag\", \"saga\"],\n",
    "    \"max_iter\" : [20, 25, 50, 100],\n",
    "    \"multi_class\" : [\"auto\", \"ovr\", \"multinomial\"],\n",
    "}\n",
    "\n",
    "grid = GridSearchCV(estimator=LogisticRegression(), param_grid=params, n_jobs=4)\n",
    "\n",
    "grid.fit(x_train, y_train)\n",
    "\n",
    "print(grid.best_params_)\n",
    "grid.best_score_"
   ]
  },
  {
   "attachments": {},
   "cell_type": "markdown",
   "metadata": {},
   "source": [
    "Aplicam els paràmetres òptims aconseguits:"
   ]
  },
  {
   "cell_type": "code",
   "execution_count": null,
   "metadata": {},
   "outputs": [],
   "source": [
    "log = LogisticRegression(\n",
    "    C= 0.22, class_weight=None, \n",
    "    fit_intercept=True, \n",
    "    max_iter= 20, \n",
    "    multi_class=\"auto\",\n",
    "    penalty=\"l1\",\n",
    "    solver=\"liblinear\",\n",
    "    tol=0.000001,\n",
    "    random_state=42).fit(x_train, y_train)\n",
    "y_hat = log.predict(x_test)\n",
    "\n",
    "# Array de 10 valors per fer-ne la mitjana per a la posterior comparació de rendiments\n",
    "logistic_predicts = []\n",
    "for i in range(10):\n",
    "    logistic_predicts.append(round(accuracy_score(log.predict(x_test),y_test)*100,2))\n",
    "\n",
    "log_pred = np.array(logistic_predicts).mean()\n",
    "\n",
    "print(f\"La precissió és del {log_pred}%\")"
   ]
  },
  {
   "attachments": {},
   "cell_type": "markdown",
   "metadata": {},
   "source": [
    "### 2.1.2 Perceptró"
   ]
  },
  {
   "attachments": {},
   "cell_type": "markdown",
   "metadata": {},
   "source": [
    "A la biblioteca scikit-learn, la classe *Perceptron* s'utilitza per implementar un model de perceptron d'una sola capa. Aquesta classe proporciona diversos hiperparàmetres que ens permeten personalitzar el comportament del model.\n",
    "\n",
    "Aquests són alguns dels principals hiperparàmetres de la classe *Perceptron*:\n",
    "\n",
    "- **penalty**: Aquest hiperparàmetre especifica el tipus de regularització a utilitzar. Els valors possibles són \"*l1*\" per a la regularització L1 i \"*l2*\" per a la regularització L2. La regularització L1 afegeix una penalització basada en el valor absolut dels coeficients, mentre que la regularització L2 afegeix una penalització basada en el quadrat dels coeficients.\n",
    "\n",
    "- **alpha**: Aquest hiperparàmetre controla la força de la regularització. Un valor més petit d'alfa correspon a una regularització més forta, que pot ajudar a evitar el sobreajust.\n",
    "\n",
    "- **fit_intercept**: Aquest hiperparàmetre especifica si s'ha d'ajustar un terme d'intercepció al model.\n",
    "\n",
    "- **max_iter**: Aquest hiperparàmetre especifica el nombre màxim d'iteracions a utilitzar quan s'ajusta el model.\n",
    "\n",
    "- **tol**: Aquest hiperparàmetre especifica la tolerància per a l'optimització. Si la diferència entre la funció de cost en dues iteracions consecutives és menor que la tolerància, l'optimització s'aturarà.\n",
    "\n",
    "- **shuffle**: Aquest hiperparàmetre especifica si s'han de barrejar les dades d'entrenament abans d'ajustar el model.\n",
    "\n",
    "- **early_stopping**: Aquest hiperparàmetre especifica si s'ha d'utilitzar l'aturada anticipada per finalitzar el procés d'ajust quan la puntuació de validació no millora.\n",
    "\n",
    "- **validation_fraction**: Aquest hiperparàmetre especifica la fracció de les dades d'entrenament que cal utilitzar per a la validació quan l'aturada anticipada està habilitada.\n",
    "\n",
    "És important ajustar aquests hiperparàmetres amb cura, ja que poden afectar significativament el rendiment del model."
   ]
  },
  {
   "cell_type": "code",
   "execution_count": null,
   "metadata": {},
   "outputs": [],
   "source": [
    "warnings.filterwarnings(\"ignore\")\n",
    "\n",
    "params = {\n",
    "    \"penalty\" : [\"l2\", \"l1\", \"elasticnet\", None],\n",
    "    \"alpha\" : [0.000001, 0.00001, 0.0001, 0.001, 0.01, 0.1],\n",
    "    \"fit_intercept\" : [True, False],\n",
    "    \"max_iter\" : [50, 100, 150, 200],\n",
    "    \"tol\" : [0.0001, 0.001, 0.01, 0.1],\n",
    "    \"shuffle\" : [True, False],\n",
    "    \"early_stopping\" : [True, False],\n",
    "    \"validation_fraction\" : [0.00001, 0.0001, 0.001, 0.1],\n",
    "}\n",
    "\n",
    "grid = GridSearchCV(estimator=Perceptron(), param_grid=params, n_jobs=4)\n",
    "\n",
    "grid.fit(x_train, y_train)\n",
    "\n",
    "print(grid.best_params_)\n",
    "grid.best_score_"
   ]
  },
  {
   "attachments": {},
   "cell_type": "markdown",
   "metadata": {},
   "source": [
    "Aplicam els paràmetres òptims aconseguits:"
   ]
  },
  {
   "cell_type": "code",
   "execution_count": null,
   "metadata": {},
   "outputs": [],
   "source": [
    "perc = Perceptron(\n",
    "    alpha=0.0001, \n",
    "    early_stopping=False, \n",
    "    fit_intercept=False, \n",
    "    max_iter=50, \n",
    "    penalty=\"l1\", \n",
    "    shuffle=True,\n",
    "    tol=0.0001,\n",
    "    validation_fraction=0.00001,\n",
    "    random_state=42).fit(x_train, y_train)\n",
    "y_hat = perc.predict(x_test) \n",
    "\n",
    "# Array de 10 valors per fer-ne la mitjana per a la posterior comparació de rendiments\n",
    "perceptron_predicts = []\n",
    "for i in range(10):\n",
    "    perceptron_predicts.append(round(accuracy_score(perc.predict(x_test),y_test)*100,2))\n",
    "\n",
    "percep_pred = np.array(perceptron_predicts).mean()\n",
    "\n",
    "print(f\"La precissió és del {percep_pred}%\")"
   ]
  },
  {
   "attachments": {},
   "cell_type": "markdown",
   "metadata": {},
   "source": [
    "### 2.1.3. Arbres de decissió"
   ]
  },
  {
   "attachments": {},
   "cell_type": "markdown",
   "metadata": {},
   "source": [
    "A la biblioteca scikit-learn, la classe RandomForestClassifier s'utilitza per implementar un classificador de bosc aleatori. Aquesta classe proporciona diversos hiperparàmetres que ens permeten personalitzar el comportament del model.\n",
    "\n",
    "Aquests són alguns dels hiperparàmetres principals de la classe RandomForestClassifier:\n",
    "\n",
    "- **n_estimators**: Aquest hiperparàmetre especifica el nombre d'arbres del bosc. Un nombre més gran d'arbres normalment donarà lloc a un millor model, però també trigarà més temps a entrenar.\n",
    "\n",
    "- **criterion**: Aquest hiperparàmetre especifica la funció per mesurar la qualitat d'una divisió. Els valors possibles són 'gini' per a la impuresa de Gini i 'entropia' per al guany d'informació.\n",
    "\n",
    "- **max_depth**: Aquest hiperparàmetre especifica la profunditat màxima de cada arbre del bosc. Un valor més gran normalment donarà lloc a un model més complex, que pot sobreajustar les dades d'entrenament.\n",
    "\n",
    "- **min_samples_split**: Aquest hiperparàmetre especifica el nombre mínim de mostres necessàries per dividir un node intern.\n",
    "\n",
    "- **min_samples_leaf**: Aquest hiperparàmetre especifica el nombre mínim de mostres necessaris per estar en un node fulla.\n",
    "\n",
    "- **max_features**: Aquest hiperparàmetre especifica el nombre de funcions que cal tenir en compte a l'hora de buscar la millor divisió.\n",
    "\n",
    "- **bootstrap**: Aquest hiperparàmetre especifica si s'han d'utilitzar mostres d'arrencada quan es construeix cada arbre.\n",
    "\n",
    "- **class_weight**: Aquest hiperparàmetre us permet especificar pesos de classe per equilibrar la distribució de classes a les dades d'entrada.\n",
    "\n",
    "És important ajustar aquests hiperparàmetres amb cura, ja que poden afectar significativament el rendiment del model."
   ]
  },
  {
   "cell_type": "code",
   "execution_count": null,
   "metadata": {},
   "outputs": [],
   "source": [
    "warnings.filterwarnings(\"ignore\")\n",
    "\n",
    "params = {\n",
    "    \"n_estimators\" : [10, 20, 30, 40],\n",
    "    \"criterion\" : [\"gini\", \"entropy\", \"log_loss\"],\n",
    "    \"max_depth\" : [None, 3, 4, 5],\n",
    "    \"min_samples_split\": [2, 3, 4],\n",
    "    \"min_samples_leaf\": [1, 2],\n",
    "    \"max_features\" : [\"sqrt\", \"log2\"],\n",
    "    \"bootstrap\" : [True, False],\n",
    "    \"class_weight\" : [None, \"balanced\", \"balanced_subsample\"],\n",
    "}\n",
    "\n",
    "grid = GridSearchCV(estimator=RandomForestClassifier(), param_grid=params, n_jobs=4)\n",
    "\n",
    "grid.fit(x_train, y_train)\n",
    "\n",
    "print(grid.best_params_)\n",
    "grid.best_score_"
   ]
  },
  {
   "attachments": {},
   "cell_type": "markdown",
   "metadata": {},
   "source": [
    "Aplicam els paràmetres òptims aconseguits:"
   ]
  },
  {
   "cell_type": "code",
   "execution_count": null,
   "metadata": {},
   "outputs": [],
   "source": [
    "forest_class = RandomForestClassifier(\n",
    "    bootstrap=True,\n",
    "    class_weight=None, \n",
    "    criterion=\"gini\",\n",
    "    max_depth=5,\n",
    "    max_features=\"sqrt\", \n",
    "    min_samples_split=2,\n",
    "    min_samples_leaf=2,\n",
    "    n_estimators=10,\n",
    "    random_state=42).fit(x_train, y_train)\n",
    "\n",
    "# Array de 10 valors per fer-ne la mitjana per a la posterior comparació de rendiments\n",
    "forest_predicts = []\n",
    "for i in range(10):\n",
    "    forest_predicts.append(round(accuracy_score(forest_class.predict(x_test),y_test)*100,2))\n",
    "\n",
    "for_pred = np.array(forest_predicts).mean()\n",
    "\n",
    "print(f\"La precissió és del {for_pred}%\")"
   ]
  },
  {
   "attachments": {},
   "cell_type": "markdown",
   "metadata": {},
   "source": [
    "La biblioteca scikit-learn proporciona una implementació del *Decission Tree Classifier* que ens permet entrenar i avaluar un model d'arbre de decisió sobre les nostres dades.\n",
    "\n",
    "Aquests són alguns dels hiperparàmetres principals de la classe *Decission Tree Classifier*:\n",
    "\n",
    "- **criterion**: Aquesta és la funció que s'utilitza per mesurar la qualitat d'un split. El valor predeterminat és \"gini\", que mesura la impuresa de la divisió en funció de l'índex d'impureses de Gini. També es pot utilitzar \"entropia\" per mesurar la impuresa de la divisió en funció del guany d'informació.\n",
    "\n",
    "- **splitter**: Determina l'estratègia utilitzada per triar la divisió a cada node. El valor per defecte és \"best\", el que significa que l'algorisme intentarà trobar la millor divisió segons el criteri. També es pot utilitzar \"random\" per seleccionar la divisió a l'atzar.\n",
    "\n",
    "- **max_depth**: Aquesta és la profunditat màxima de l'arbre. El valor per defecte és *None*, el que significa que l'arbre pot créixer indefinidament fins que totes les fulles siguin pures. Establir una profunditat màxima pot ajudar a evitar un sobreajustament.\n",
    "\n",
    "- **min_samples_split**: Aquest és el nombre mínim de mostres necessàries per dividir un node intern. El valor predeterminat és 2. Augmentar aquest valor pot ajudar a evitar un sobreajustament.\n",
    "\n",
    "- **min_samples_leaf**: Aquest és el nombre mínim de mostres necessaries per estar en un node fulla. El valor predeterminat és 1. Augmentar aquest valor pot ajudar a evitar un sobreajustament.\n",
    "\n",
    "- **max_features**: Aquest és el nombre màxim de funcions considerades a l'hora de buscar la millor divisió. El valor predeterminat és *None*, el que significa que es tenen en compte totes les característiques. Establir un nombre màxim de funcions pot ajudar a evitar el sobreajustament.\n",
    "\n",
    "- **random_state**: Aquesta és la llavor utilitzada pel generador de números aleatoris. Establir aquest valor us permet reproduir els mateixos resultats si entrenem el model diverses vegades.\n",
    "\n",
    "És important ajustar aquests hiperparàmetres amb cura, ja que poden afectar significativament el rendiment del model."
   ]
  },
  {
   "cell_type": "code",
   "execution_count": null,
   "metadata": {},
   "outputs": [],
   "source": [
    "warnings.filterwarnings(\"ignore\")\n",
    "\n",
    "params = {\n",
    "    \"criterion\" : [\"gini\", \"entropy\", \"log_loss\"],\n",
    "    \"splitter\" : [\"best\", \"random\"],\n",
    "    \"max_depth\": [None, 2, 3, 4],\n",
    "    \"min_samples_split\": [1, 2, 3],\n",
    "    \"min_samples_leaf\" : [1, 2, 3, 4, 5],\n",
    "    \"max_features\": [\"auto\", \"sqrt\", \"log2\"],\n",
    "}\n",
    "\n",
    "grid = GridSearchCV(estimator=DecisionTreeClassifier(), param_grid=params, n_jobs=4)\n",
    "\n",
    "grid.fit(x_train, y_train)\n",
    "\n",
    "print(grid.best_params_)\n",
    "grid.best_score_"
   ]
  },
  {
   "attachments": {},
   "cell_type": "markdown",
   "metadata": {},
   "source": [
    "Aplicam els paràmetres òptims aconseguits:"
   ]
  },
  {
   "cell_type": "code",
   "execution_count": null,
   "metadata": {},
   "outputs": [],
   "source": [
    "decission_tree = DecisionTreeClassifier(\n",
    "    criterion=\"entropy\",\n",
    "    max_depth=None,\n",
    "    max_features=\"auto\", \n",
    "    min_samples_split=2,\n",
    "    min_samples_leaf=3,\n",
    "    random_state=42,\n",
    "    splitter=\"best\").fit(x_train, y_train)\n",
    "\n",
    "# Array de 10 valors per fer-ne la mitjana per a la posterior comparació de rendiments\n",
    "tree_predicts = []\n",
    "for i in range(10):\n",
    "    tree_predicts.append(round(accuracy_score(decission_tree.predict(x_test),y_test)*100,2))\n",
    "\n",
    "tree_pred = np.array(tree_predicts).mean()\n",
    "\n",
    "print(f\"La precissió és del {tree_pred}%\")"
   ]
  },
  {
   "attachments": {},
   "cell_type": "markdown",
   "metadata": {},
   "source": [
    "### 2.1.4. Comparació dels rendiments"
   ]
  },
  {
   "cell_type": "code",
   "execution_count": null,
   "metadata": {},
   "outputs": [],
   "source": [
    "print(f\"Regressió Logistica: {log_pred}, Percptró: {percep_pred}, Boscos aleatoris: {for_pred}, Abres de decissió: {tree_pred}\")"
   ]
  },
  {
   "attachments": {},
   "cell_type": "markdown",
   "metadata": {},
   "source": [
    "Per tant, procedim a comparar aquests rendiments per veure quant millor és un que l'altre. El que farem sera comparar quant de millor és el model d'abres de decissió, ja que és el que millor resultat ens ha donat."
   ]
  },
  {
   "cell_type": "code",
   "execution_count": null,
   "metadata": {},
   "outputs": [],
   "source": [
    "print(f\"El model de Boscos aleatoris és un {round((((for_pred/log_pred) - 1)) * 100, 2)}% millor que la Regressió Logistica\")\n",
    "print(f\"El model de Boscos aleatoris és un {round((((for_pred/percep_pred) - 1)) * 100, 2)}% millor que el Perceptró\")\n",
    "print(f\"El model de Boscos aleatoris és un {round((((for_pred/tree_pred) - 1)) * 100, 2)}% millor que el d'Arbres de decissió\")"
   ]
  },
  {
   "attachments": {},
   "cell_type": "markdown",
   "metadata": {},
   "source": [
    "## 2.2. Model reduït"
   ]
  },
  {
   "cell_type": "markdown",
   "metadata": {},
   "source": [
    "En aquesta secció seguirem la mateixa metedologia que amb el model complet. Per tant, no comentarem explicitament totes les pases, ja que són les mateixes"
   ]
  },
  {
   "cell_type": "code",
   "execution_count": null,
   "metadata": {},
   "outputs": [],
   "source": [
    "scaler = preprocessing.MinMaxScaler()\n",
    "\n",
    "y = model_fit[\"Survived\"]\n",
    "x = model_fit.drop(\"Survived\", axis=1)\n",
    "\n",
    "# Escalam les dades en funció de x\n",
    "x = scaler.fit_transform(x)\n",
    "\n",
    "x_train, x_test, y_train, y_test = train_test_split(x, y, test_size=0.3, stratify=y , random_state=42)\n",
    "x_train.shape, x_test.shape, y_train.shape, y_test.shape"
   ]
  },
  {
   "attachments": {},
   "cell_type": "markdown",
   "metadata": {},
   "source": [
    "### 2.2.1. Regressió Logistica"
   ]
  },
  {
   "cell_type": "code",
   "execution_count": null,
   "metadata": {},
   "outputs": [],
   "source": [
    "warnings.filterwarnings(\"ignore\")\n",
    "\n",
    "params = {\n",
    "    \"penalty\" : [\"l1\", \"l2\", \"elasticnet\", None],\n",
    "    \"tol\" : [0.000001, 0.00001, 0.0001, 0.001],\n",
    "    \"C\" : [0.1, 0.2, 0.21, 0.22, 0.23, 0.24, 0.25],\n",
    "    \"fit_intercept\" : [True, False],\n",
    "    \"class_weight\" : [\"balanced\", None],\n",
    "    \"solver\" : [\"lbfgs\", \"liblinear\", \"newton-cg\", \"newton-cholesky\", \"sag\", \"saga\"],\n",
    "    \"max_iter\" : [20, 25, 50, 100],\n",
    "    \"multi_class\" : [\"auto\", \"ovr\", \"multinomial\"],\n",
    "}\n",
    "\n",
    "grid = GridSearchCV(estimator=LogisticRegression(), param_grid=params, n_jobs=4)\n",
    "\n",
    "grid.fit(x_train, y_train)\n",
    "\n",
    "print(grid.best_params_)\n",
    "grid.best_score_"
   ]
  },
  {
   "attachments": {},
   "cell_type": "markdown",
   "metadata": {},
   "source": [
    "Aplicam els paràmetres òptims aconseguits:"
   ]
  },
  {
   "cell_type": "code",
   "execution_count": null,
   "metadata": {},
   "outputs": [],
   "source": [
    "log = LogisticRegression(\n",
    "    C= 0.22, \n",
    "    class_weight=None, \n",
    "    fit_intercept=True, \n",
    "    max_iter= 20, \n",
    "    multi_class=\"auto\",\n",
    "    penalty=\"l1\",\n",
    "    solver=\"liblinear\",\n",
    "    tol=0.000001,\n",
    "    random_state=42).fit(x_train, y_train)\n",
    "y_hat = log.predict(x_test)\n",
    "\n",
    "# Array de 10 valors per fer-ne la mitjana per a la posterior comparació de rendiments\n",
    "logistic_predicts = []\n",
    "for i in range(10):\n",
    "    logistic_predicts.append(round(accuracy_score(log.predict(x_test),y_test)*100,2))\n",
    "\n",
    "log_pred = np.array(logistic_predicts).mean()\n",
    "\n",
    "print('The accuracy is', log_pred)"
   ]
  },
  {
   "attachments": {},
   "cell_type": "markdown",
   "metadata": {},
   "source": [
    "### 2.2.2. Perceptró"
   ]
  },
  {
   "cell_type": "code",
   "execution_count": null,
   "metadata": {},
   "outputs": [],
   "source": [
    "warnings.filterwarnings(\"ignore\")\n",
    "\n",
    "params = {\n",
    "    \"penalty\" : [\"l2\", \"l1\", \"elasticnet\", None],\n",
    "    \"alpha\" : [0.000001, 0.00001, 0.0001, 0.001, 0.01, 0.1],\n",
    "    \"fit_intercept\" : [True, False],\n",
    "    \"max_iter\" : [50, 100, 150, 200],\n",
    "    \"tol\" : [0.0001, 0.001, 0.01, 0.1],\n",
    "    \"shuffle\" : [True, False],\n",
    "    \"early_stopping\" : [True, False],\n",
    "    \"validation_fraction\" : [0.00001, 0.0001, 0.001, 0.1]\n",
    "}\n",
    "\n",
    "grid = GridSearchCV(estimator=Perceptron(), param_grid=params, n_jobs=4)\n",
    "\n",
    "grid.fit(x_train, y_train)\n",
    "\n",
    "print(grid.best_params_)\n",
    "grid.best_score_"
   ]
  },
  {
   "attachments": {},
   "cell_type": "markdown",
   "metadata": {},
   "source": [
    "Aplicam els paràmetres òptims aconseguits:"
   ]
  },
  {
   "cell_type": "code",
   "execution_count": null,
   "metadata": {},
   "outputs": [],
   "source": [
    "perc = Perceptron(\n",
    "    alpha=0.0001, \n",
    "    early_stopping=False, \n",
    "    fit_intercept=False, \n",
    "    max_iter=50, \n",
    "    penalty=\"l1\", \n",
    "    shuffle=True,\n",
    "    tol=0.0001,\n",
    "    validation_fraction=0.00001,\n",
    "    random_state=42).fit(x_train, y_train)\n",
    "y_hat = perc.predict(x_test) \n",
    "\n",
    "# Array de 10 valors per fer-ne la mitjana per a la posterior comparació de rendiments\n",
    "perceptron_predicts = []\n",
    "for i in range(10):\n",
    "    perceptron_predicts.append(round(accuracy_score(perc.predict(x_test),y_test)*100,2))\n",
    "\n",
    "percep_pred = np.array(perceptron_predicts).mean()\n",
    "\n",
    "print('The accuracy is', percep_pred)"
   ]
  },
  {
   "attachments": {},
   "cell_type": "markdown",
   "metadata": {},
   "source": [
    "### 2.2.3. Arbres de decissió"
   ]
  },
  {
   "cell_type": "markdown",
   "metadata": {},
   "source": [
    "A continuació utilitzarem el *Random Forest Classifier*:"
   ]
  },
  {
   "cell_type": "code",
   "execution_count": null,
   "metadata": {},
   "outputs": [],
   "source": [
    "warnings.filterwarnings(\"ignore\")\n",
    "\n",
    "params = {\n",
    "    \"n_estimators\" : [10, 20, 30, 40],\n",
    "    \"criterion\" : [\"gini\", \"entropy\", \"log_loss\"],\n",
    "    \"max_depth\" : [None, 3, 4, 5],\n",
    "    \"min_samples_split\": [2, 3, 4],\n",
    "    \"min_samples_leaf\": [1, 2, 3],\n",
    "    \"max_features\" : [\"sqrt\", \"log2\"],\n",
    "    \"bootstrap\" : [True, False],\n",
    "    \"class_weight\" : [\"balanced\", \"balanced_subsample\"],\n",
    "}\n",
    "\n",
    "grid = GridSearchCV(estimator=RandomForestClassifier(), param_grid=params, n_jobs=4)\n",
    "\n",
    "grid.fit(x_train, y_train)\n",
    "\n",
    "print(grid.best_params_)\n",
    "grid.best_score_"
   ]
  },
  {
   "attachments": {},
   "cell_type": "markdown",
   "metadata": {},
   "source": [
    "Aplicam els paràmetres òptims aconseguits:"
   ]
  },
  {
   "cell_type": "code",
   "execution_count": null,
   "metadata": {},
   "outputs": [],
   "source": [
    "forest = RandomForestClassifier(\n",
    "    bootstrap=True,\n",
    "    class_weight=\"balanced_subsample\", \n",
    "    criterion=\"entropy\", \n",
    "    max_depth=4,\n",
    "    max_features=\"log2\", \n",
    "    min_samples_leaf=1,\n",
    "    min_samples_split=3,\n",
    "    n_estimators=30,\n",
    "    random_state=42).fit(x_train, y_train)\n",
    "\n",
    "# Array de 10 valors per fer-ne la mitjana per a la posterior comparació de rendiments\n",
    "forest_predicts = []\n",
    "for i in range(10):\n",
    "    forest_predicts.append(round(accuracy_score(forest.predict(x_test),y_test)*100,2))\n",
    "\n",
    "for_pred = np.array(forest_predicts).mean()\n",
    "\n",
    "print('The accuracy is', for_pred)"
   ]
  },
  {
   "attachments": {},
   "cell_type": "markdown",
   "metadata": {},
   "source": [
    "A continuacio utilitzarem el *Decision Tree Classifier*:"
   ]
  },
  {
   "cell_type": "code",
   "execution_count": null,
   "metadata": {},
   "outputs": [],
   "source": [
    "warnings.filterwarnings(\"ignore\")\n",
    "\n",
    "params = {\n",
    "    \"criterion\" : [\"gini\", \"entropy\", \"log_loss\"],\n",
    "    \"splitter\" : [\"best\", \"random\"],\n",
    "    \"max_depth\": [None, 2, 3, 4, 5, 6, 7],\n",
    "    \"min_samples_split\": [1, 2, 3],\n",
    "    \"min_samples_leaf\" : [1, 2, 3],\n",
    "    \"max_features\": [\"auto\", \"sqrt\", \"log2\"],\n",
    "}\n",
    "\n",
    "grid = GridSearchCV(estimator=DecisionTreeClassifier(), param_grid=params, n_jobs=4)\n",
    "\n",
    "grid.fit(x_train, y_train)\n",
    "\n",
    "print(grid.best_params_)\n",
    "grid.best_score_"
   ]
  },
  {
   "attachments": {},
   "cell_type": "markdown",
   "metadata": {},
   "source": [
    "Aplicam els paràmetres òptims aconseguits:"
   ]
  },
  {
   "cell_type": "code",
   "execution_count": null,
   "metadata": {},
   "outputs": [],
   "source": [
    "tree = DecisionTreeClassifier(\n",
    "    criterion=\"entropy\", \n",
    "    max_depth=4, \n",
    "    max_features=\"sqrt\",\n",
    "    min_samples_leaf=3, \n",
    "    min_samples_split=3, \n",
    "    splitter=\"random\",\n",
    "    random_state=42).fit(x_train, y_train)\n",
    "\n",
    "# Array de 10 valors per fer-ne la mitjana per a la posterior comparació de rendiments\n",
    "tree_predicts = []\n",
    "for i in range(10):\n",
    "    tree_predicts.append(round(accuracy_score(tree.predict(x_test),y_test)*100,2))\n",
    "\n",
    "tree_pred = np.array(tree_predicts).mean()\n",
    "\n",
    "print('The accuracy is', for_pred)"
   ]
  },
  {
   "attachments": {},
   "cell_type": "markdown",
   "metadata": {},
   "source": [
    "### 2.2.4. Comparació de rendiments"
   ]
  },
  {
   "cell_type": "code",
   "execution_count": null,
   "metadata": {},
   "outputs": [],
   "source": [
    "print(f\"Regressió Logistica: {log_pred}, Percptró: {percep_pred}, Boscos aleatoris: {for_pred}, Abres de decissió: {tree_pred}\")"
   ]
  },
  {
   "attachments": {},
   "cell_type": "markdown",
   "metadata": {},
   "source": [
    "asdasd"
   ]
  },
  {
   "cell_type": "code",
   "execution_count": null,
   "metadata": {},
   "outputs": [],
   "source": [
    "print(f\"El model de Boscos aleatoris és un {round((((for_pred/log_pred) - 1)) * 100, 2)}% millor que la Regressió Logistica\")\n",
    "print(f\"El model de Boscos aleatoris és un {round((((for_pred/percep_pred) - 1)) * 100, 2)}% millor que el Perceptró\")\n",
    "print(f\"El model de Boscos aleatoris és un {round((((for_pred/tree_pred) - 1)) * 100, 2)}% millor que el d'Arbres de decissió\")"
   ]
  },
  {
   "attachments": {},
   "cell_type": "markdown",
   "metadata": {},
   "source": [
    "Llavors, podem concluir, que el model amb totes les variables ens dona resultats més dispars entre les diferents prediccions; però ens aporta una major precissió. Concretament en el model de *Random Forest Regression* ens dona una precissió superior al 80%. És per això, que haurem d'agafar el model amb el màxim de variables per a poder tenir una major perspectiva de com influeixen aquestes en la predicció. Això es comentarà en el següent apartat."
   ]
  },
  {
   "cell_type": "markdown",
   "metadata": {},
   "source": [
    "# 3. Anàlisis de les característiques"
   ]
  },
  {
   "attachments": {},
   "cell_type": "markdown",
   "metadata": {},
   "source": [
    "La *feature importance* és una mesura de quant contribueix una característica a la predicció d'una variable objectiu en un model d'aprenentatge automàtic. S'utilitza habitualment en algorismes d'aprenentatge supervisat per identificar les característiques més importants per fer prediccions precises.\n",
    "\n",
    "Hi ha diverses maneres de calcular la *feature importance* en l'aprenentatge automàtic, incloses les següents:\n",
    "\n",
    "- **Disminució de la mitjana d'impuresa**: Aquest mètode calcula la disminució de la impuresa causada per cada característica quan s'utilitza per dividir les dades. La impuresa es mesura mitjançant un criteri com l'índex d'impureses de Gini o el guany d'informació.\n",
    "\n",
    "- **Precisió de la disminució de la mitjana**: Aquest mètode calcula la disminució de la precisió del model causada per permutar (remenar aleatòriament) els valors de cada característica. La idea és que si una característica és important, remenar els seus valors hauria de disminuir significativament la precisió del model.\n",
    "\n",
    "- **Valors dels coeficients**: En models lineals, com ara la regressió lineal i la regressió logística, la magnitud dels coeficients associats a cada característica es pot utilitzar per determinar la seva importància. Els coeficients més grans indiquen una relació més forta amb la variable objectiu.\n",
    "\n",
    "En aquest cas, ens centrarem en l'última."
   ]
  },
  {
   "cell_type": "code",
   "execution_count": null,
   "metadata": {},
   "outputs": [],
   "source": [
    "scaler = preprocessing.MinMaxScaler()\n",
    "\n",
    "y = model[\"Survived\"]\n",
    "x = model.drop(\"Survived\", axis=1)\n",
    "\n",
    "# Escalam les dades en funció de x\n",
    "x = scaler.fit_transform(x)\n",
    "\n",
    "x_train, x_test, y_train, y_test = train_test_split(x, y, test_size=0.3, stratify=y , random_state=42)\n",
    "x_train.shape, x_test.shape, y_train.shape, y_test.shape"
   ]
  },
  {
   "cell_type": "code",
   "execution_count": 77,
   "metadata": {},
   "outputs": [
    {
     "data": {
      "image/png": "[encoded data removed]",
      "text/plain": [
       "<Figure size 640x480 with 1 Axes>"
      ]
     },
     "metadata": {},
     "output_type": "display_data"
    }
   ],
   "source": [
    "log = LogisticRegression()\n",
    "\n",
    "log.fit(x_train, y_train)\n",
    "\n",
    "importance = log.coef_[0]\n",
    "\n",
    "data = {\n",
    "    \"Cabin\" : importance[0],\n",
    "    \"Pclass_1\" : importance[1],\n",
    "    \"Pclass_2\" : importance[2],\n",
    "    \"Pclass_3\" : importance[3],\n",
    "    \"Family\" : importance[4],\n",
    "    \"Sex_female\" : importance[5],\n",
    "    \"Sex_male\" : importance[6], \n",
    "    \"Age_Kid\" : importance[7],\n",
    "    \"Age_Teen\" : importance[8],\n",
    "    \"Age_Adult\" : importance[9],\n",
    "    \"Age_Old\" : importance[10],\n",
    "    \"Fare_type_Low\" : importance[11],\n",
    "    \"Fare_type_Median\" : importance[12],\n",
    "    \"Fare_type_Average\" : importance[13],\n",
    "    \"Fare_type_High\" : importance[14],\n",
    "    \"Embarked_Q\" : importance[15],\n",
    "    \"Embarked_C\" : importance[16],\n",
    "    \"Embarked_S\" : importance[17]\n",
    "}\n",
    "\n",
    "plt.bar(data.keys(), data.values())\n",
    "plt.xticks(rotation=\"vertical\")\n",
    "plt.show()\n"
   ]
  },
  {
   "cell_type": "code",
   "execution_count": 78,
   "metadata": {},
   "outputs": [
    {
     "data": {
      "image/png": "[encoded data removed]",
      "text/plain": [
       "<Figure size 640x480 with 1 Axes>"
      ]
     },
     "metadata": {},
     "output_type": "display_data"
    }
   ],
   "source": [
    "perc = Perceptron()\n",
    "\n",
    "perc.fit(x_train, y_train)\n",
    "\n",
    "importance = perc.coef_[0]\n",
    "\n",
    "data = {\n",
    "    \"Cabin\" : importance[0],\n",
    "    \"Pclass_1\" : importance[1],\n",
    "    \"Pclass_2\" : importance[2],\n",
    "    \"Pclass_3\" : importance[3],\n",
    "    \"Family\" : importance[4],\n",
    "    \"Sex_female\" : importance[5],\n",
    "    \"Sex_male\" : importance[6], \n",
    "    \"Age_Kid\" : importance[7],\n",
    "    \"Age_Teen\" : importance[8],\n",
    "    \"Age_Adult\" : importance[9],\n",
    "    \"Age_Old\" : importance[10],\n",
    "    \"Fare_type_Low\" : importance[11],\n",
    "    \"Fare_type_Median\" : importance[12],\n",
    "    \"Fare_type_Average\" : importance[13],\n",
    "    \"Fare_type_High\" : importance[14],\n",
    "    \"Embarked_Q\" : importance[15],\n",
    "    \"Embarked_C\" : importance[16],\n",
    "    \"Embarked_S\" : importance[17]\n",
    "}\n",
    "\n",
    "plt.bar(data.keys(), data.values())\n",
    "plt.xticks(rotation=\"vertical\")\n",
    "plt.show()"
   ]
  },
  {
   "cell_type": "code",
   "execution_count": 80,
   "metadata": {},
   "outputs": [
    {
     "data": {
      "image/png": "[encoded data removed]",
      "text/plain": [
       "<Figure size 640x480 with 1 Axes>"
      ]
     },
     "metadata": {},
     "output_type": "display_data"
    }
   ],
   "source": [
    "forest = RandomForestClassifier()\n",
    "\n",
    "forest.fit(x_train, y_train)\n",
    "\n",
    "importance = forest.feature_importances_\n",
    "\n",
    "data = {\n",
    "    \"Cabin\" : importance[0],\n",
    "    \"Pclass_1\" : importance[1],\n",
    "    \"Pclass_2\" : importance[2],\n",
    "    \"Pclass_3\" : importance[3],\n",
    "    \"Family\" : importance[4],\n",
    "    \"Sex_female\" : importance[5],\n",
    "    \"Sex_male\" : importance[6], \n",
    "    \"Age_Kid\" : importance[7],\n",
    "    \"Age_Teen\" : importance[8],\n",
    "    \"Age_Adult\" : importance[9],\n",
    "    \"Age_Old\" : importance[10],\n",
    "    \"Fare_type_Low\" : importance[11],\n",
    "    \"Fare_type_Median\" : importance[12],\n",
    "    \"Fare_type_Average\" : importance[13],\n",
    "    \"Fare_type_High\" : importance[14],\n",
    "    \"Embarked_Q\" : importance[15],\n",
    "    \"Embarked_C\" : importance[16],\n",
    "    \"Embarked_S\" : importance[17]\n",
    "}\n",
    "\n",
    "plt.bar(data.keys(), data.values())\n",
    "plt.xticks(rotation=\"vertical\")\n",
    "plt.show()"
   ]
  },
  {
   "cell_type": "code",
   "execution_count": 79,
   "metadata": {},
   "outputs": [
    {
     "data": {
      "image/png": "[encoded data removed]",
      "text/plain": [
       "<Figure size 640x480 with 1 Axes>"
      ]
     },
     "metadata": {},
     "output_type": "display_data"
    }
   ],
   "source": [
    "tree = DecisionTreeClassifier()\n",
    "\n",
    "tree.fit(x_train, y_train)\n",
    "\n",
    "importance = tree.feature_importances_\n",
    "\n",
    "data = {\n",
    "    \"Cabin\" : importance[0],\n",
    "    \"Pclass_1\" : importance[1],\n",
    "    \"Pclass_2\" : importance[2],\n",
    "    \"Pclass_3\" : importance[3],\n",
    "    \"Family\" : importance[4],\n",
    "    \"Sex_female\" : importance[5],\n",
    "    \"Sex_male\" : importance[6], \n",
    "    \"Age_Kid\" : importance[7],\n",
    "    \"Age_Teen\" : importance[8],\n",
    "    \"Age_Adult\" : importance[9],\n",
    "    \"Age_Old\" : importance[10],\n",
    "    \"Fare_type_Low\" : importance[11],\n",
    "    \"Fare_type_Median\" : importance[12],\n",
    "    \"Fare_type_Average\" : importance[13],\n",
    "    \"Fare_type_High\" : importance[14],\n",
    "    \"Embarked_Q\" : importance[15],\n",
    "    \"Embarked_C\" : importance[16],\n",
    "    \"Embarked_S\" : importance[17]\n",
    "}\n",
    "\n",
    "plt.bar(data.keys(), data.values())\n",
    "plt.xticks(rotation=\"vertical\")\n",
    "plt.show()"
   ]
  }
 ],
 "metadata": {
  "kernelspec": {
   "display_name": "Python 3.10.8 64-bit",
   "language": "python",
   "name": "python3"
  },
  "language_info": {
   "codemirror_mode": {
    "name": "ipython",
    "version": 3
   },
   "file_extension": ".py",
   "mimetype": "text/x-python",
   "name": "python",
   "nbconvert_exporter": "python",
   "pygments_lexer": "ipython3",
   "version": "3.10.8"
  },
  "orig_nbformat": 4,
  "vscode": {
   "interpreter": {
    "hash": "e7370f93d1d0cde622a1f8e1c04877d8463912d04d973331ad4851f04de6915a"
   }
  }
 },
 "nbformat": 4,
 "nbformat_minor": 2
}
